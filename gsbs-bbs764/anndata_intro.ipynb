{
 "cells": [
  {
   "cell_type": "code",
   "execution_count": 1,
   "id": "bc36541e-5118-4ecd-9508-522da74e858f",
   "metadata": {},
   "outputs": [],
   "source": [
    "import scanpy as sc\n",
    "import numpy as np"
   ]
  },
  {
   "cell_type": "code",
   "execution_count": 2,
   "id": "a9c74b59-6857-4a05-ad68-f6c2f21a0eae",
   "metadata": {},
   "outputs": [
    {
     "data": {
      "text/plain": [
       "AnnData object with n_obs × n_vars = 5 × 3"
      ]
     },
     "execution_count": 2,
     "metadata": {},
     "output_type": "execute_result"
    }
   ],
   "source": [
    "# Creating a random matrix with 5 rows for observations (cells) and 3 columns for variables (genes)\n",
    "adata = sc.AnnData(X=np.random.rand(5, 3))\n",
    "adata"
   ]
  },
  {
   "cell_type": "code",
   "execution_count": 3,
   "id": "2aaba6f8-3101-404d-87af-0eb79cd058dc",
   "metadata": {},
   "outputs": [
    {
     "data": {
      "text/plain": [
       "array([[0.44553164, 0.53237194, 0.19820757],\n",
       "       [0.14540816, 0.65610779, 0.8645768 ],\n",
       "       [0.04377226, 0.20556402, 0.87213767],\n",
       "       [0.19022053, 0.10529168, 0.34080046],\n",
       "       [0.39752133, 0.71550259, 0.95998465]])"
      ]
     },
     "execution_count": 3,
     "metadata": {},
     "output_type": "execute_result"
    }
   ],
   "source": [
    "adata.X"
   ]
  },
  {
   "cell_type": "code",
   "execution_count": 4,
   "id": "bb8b2a7c-d6e1-451a-859b-ca071fea8ca3",
   "metadata": {},
   "outputs": [],
   "source": [
    "adata.obs_names = ['cell_1', 'cell_2', 'cell_3', 'cell_4', 'cell_5']\n",
    "adata.var_names = ['gene_1', 'gene_2', 'gene_3']"
   ]
  },
  {
   "cell_type": "code",
   "execution_count": 5,
   "id": "1143e5e9-c93b-45b2-9a9a-338b211af561",
   "metadata": {},
   "outputs": [],
   "source": [
    "adata.obs['cell_type'] = ['A', 'B', 'A', 'B', 'C'] \n",
    "adata.var['cell_count'] = [500, 120, 100]\n",
    "adata.var['highly_variable'] = [False, True, True]"
   ]
  },
  {
   "cell_type": "code",
   "execution_count": 6,
   "id": "2d96a2ee-7ecf-4f7c-960e-33a332bc6c80",
   "metadata": {},
   "outputs": [
    {
     "data": {
      "text/plain": [
       "AnnData object with n_obs × n_vars = 5 × 3\n",
       "    obs: 'cell_type'\n",
       "    var: 'cell_count', 'highly_variable'"
      ]
     },
     "execution_count": 6,
     "metadata": {},
     "output_type": "execute_result"
    }
   ],
   "source": [
    "adata"
   ]
  },
  {
   "cell_type": "code",
   "execution_count": 7,
   "id": "185b0b7c-ad5b-4d03-8a86-12d357fc02da",
   "metadata": {},
   "outputs": [],
   "source": [
    "# Add mock PCA results\n",
    "adata.obsm['X_pca'] = np.random.rand(5, 2)  # 5 observations, 2 PCA components\n",
    "\n",
    "# Add some mock metadata\n",
    "adata.varm['additional_info'] = np.random.rand(3, 2)  # 3 variables, 2 types of additional info"
   ]
  },
  {
   "cell_type": "code",
   "execution_count": 8,
   "id": "dbbcf4b8-100f-4606-8922-b89fa239f478",
   "metadata": {},
   "outputs": [
    {
     "data": {
      "text/plain": [
       "AnnData object with n_obs × n_vars = 5 × 3\n",
       "    obs: 'cell_type'\n",
       "    var: 'cell_count', 'highly_variable'\n",
       "    obsm: 'X_pca'\n",
       "    varm: 'additional_info'"
      ]
     },
     "execution_count": 8,
     "metadata": {},
     "output_type": "execute_result"
    }
   ],
   "source": [
    "adata"
   ]
  },
  {
   "cell_type": "code",
   "execution_count": 9,
   "id": "cab8cce5-9746-4837-9d42-2bdc49ee45b3",
   "metadata": {},
   "outputs": [
    {
     "data": {
      "text/plain": [
       "array([[0.73415153, 0.55316867],\n",
       "       [0.28919804, 0.69995024],\n",
       "       [0.11020741, 0.96760457],\n",
       "       [0.54270542, 0.11783809],\n",
       "       [0.26675692, 0.52327206]])"
      ]
     },
     "execution_count": 9,
     "metadata": {},
     "output_type": "execute_result"
    }
   ],
   "source": [
    "adata.obsm['X_pca']"
   ]
  },
  {
   "cell_type": "code",
   "execution_count": 10,
   "id": "b61f145f-145a-4d2f-bab3-7c12a5c0bbfa",
   "metadata": {},
   "outputs": [
    {
     "data": {
      "text/plain": [
       "array([[0.8119597 , 0.71456505],\n",
       "       [0.81247594, 0.19464328],\n",
       "       [0.40450844, 0.7042471 ]])"
      ]
     },
     "execution_count": 10,
     "metadata": {},
     "output_type": "execute_result"
    }
   ],
   "source": [
    "adata.varm['additional_info']"
   ]
  },
  {
   "cell_type": "code",
   "execution_count": 11,
   "id": "9b59aff9-3e6c-4c9f-937d-81b262a1d907",
   "metadata": {},
   "outputs": [
    {
     "data": {
      "text/plain": [
       "array([[0.        , 0.74123721, 0.8499387 , 0.51760414, 0.78494977],\n",
       "       [0.74123721, 0.        , 0.46192717, 0.76141197, 0.27602799],\n",
       "       [0.8499387 , 0.46192717, 0.        , 0.56019717, 0.62681165],\n",
       "       [0.51760414, 0.76141197, 0.56019717, 0.        , 0.89371139],\n",
       "       [0.78494977, 0.27602799, 0.62681165, 0.89371139, 0.        ]])"
      ]
     },
     "execution_count": 11,
     "metadata": {},
     "output_type": "execute_result"
    }
   ],
   "source": [
    "from scipy.spatial.distance import cdist\n",
    "adata.obsp['distances'] = distances = cdist(adata.X, adata.X, 'euclidean')\n",
    "adata.obsp['distances']"
   ]
  },
  {
   "cell_type": "code",
   "execution_count": 12,
   "id": "c8c312fe-3ea4-4516-8761-46328256c4dc",
   "metadata": {},
   "outputs": [
    {
     "data": {
      "text/plain": [
       "array([[ 1.        ,  0.56004991, -0.38588474],\n",
       "       [ 0.56004991,  1.        ,  0.36980182],\n",
       "       [-0.38588474,  0.36980182,  1.        ]])"
      ]
     },
     "execution_count": 12,
     "metadata": {},
     "output_type": "execute_result"
    }
   ],
   "source": [
    "adata.varp['correlations'] = np.corrcoef(adata.X.T)\n",
    "adata.varp['correlations']"
   ]
  },
  {
   "cell_type": "code",
   "execution_count": 13,
   "id": "8773ada3-ee7b-4e16-aff0-21e807e15cbb",
   "metadata": {},
   "outputs": [
    {
     "name": "stdout",
     "output_type": "stream",
     "text": [
      "OrderedDict([('experiment_info', {'date': '2024-01-01', 'researcher': 'Andres Colubri'})])\n"
     ]
    }
   ],
   "source": [
    "adata.uns['experiment_info'] = {'date': '2024-01-01', 'researcher': 'Andres Colubri'}\n",
    "print(adata.uns)"
   ]
  },
  {
   "cell_type": "code",
   "execution_count": 14,
   "id": "f6e9ad01-37a1-45c4-9650-62758d68ad9f",
   "metadata": {},
   "outputs": [
    {
     "name": "stdout",
     "output_type": "stream",
     "text": [
      "[[1.09861229 1.09861229 0.69314718]\n",
      " [1.09861229 0.69314718 1.09861229]\n",
      " [1.79175947 1.09861229 0.        ]\n",
      " [1.60943791 0.         0.69314718]\n",
      " [0.69314718 0.69314718 0.69314718]]\n"
     ]
    }
   ],
   "source": [
    "adata.layers['raw'] = np.random.poisson(2, (5, 3))\n",
    "adata.layers['normalized'] = np.log1p(adata.layers['raw'])\n",
    "print(adata.layers['normalized'])"
   ]
  },
  {
   "cell_type": "code",
   "execution_count": 15,
   "id": "4d74c8d1-37a3-408f-8291-fc3482d161bc",
   "metadata": {},
   "outputs": [
    {
     "data": {
      "text/plain": [
       "AnnData object with n_obs × n_vars = 5 × 3\n",
       "    obs: 'cell_type'\n",
       "    var: 'cell_count', 'highly_variable'\n",
       "    uns: 'experiment_info'\n",
       "    obsm: 'X_pca'\n",
       "    varm: 'additional_info'\n",
       "    layers: 'raw', 'normalized'\n",
       "    obsp: 'distances'\n",
       "    varp: 'correlations'"
      ]
     },
     "execution_count": 15,
     "metadata": {},
     "output_type": "execute_result"
    }
   ],
   "source": [
    "adata"
   ]
  }
 ],
 "metadata": {
  "kernelspec": {
   "display_name": "Python 3 (ipykernel)",
   "language": "python",
   "name": "python3"
  },
  "language_info": {
   "codemirror_mode": {
    "name": "ipython",
    "version": 3
   },
   "file_extension": ".py",
   "mimetype": "text/x-python",
   "name": "python",
   "nbconvert_exporter": "python",
   "pygments_lexer": "ipython3",
   "version": "3.11.8"
  }
 },
 "nbformat": 4,
 "nbformat_minor": 5
}
