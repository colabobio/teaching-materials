{
 "cells": [
  {
   "cell_type": "code",
   "execution_count": 1,
   "id": "84c11740-8e25-4b6f-818d-258df13fe21d",
   "metadata": {},
   "outputs": [
    {
     "name": "stdout",
     "output_type": "stream",
     "text": [
      "0\n",
      "4\n",
      "14\n"
     ]
    }
   ],
   "source": [
    "number = 0\n",
    "print(number)\n",
    "number = number + 4\n",
    "print(number)\n",
    "another_number = 10\n",
    "number = number + another_number\n",
    "print(number)"
   ]
  },
  {
   "cell_type": "code",
   "execution_count": 2,
   "id": "55b9744a-97ef-4045-af8c-53516cc08ac1",
   "metadata": {},
   "outputs": [
    {
     "name": "stdout",
     "output_type": "stream",
     "text": [
      "number is 14\n"
     ]
    }
   ],
   "source": [
    "print(\"number is\", number)"
   ]
  },
  {
   "cell_type": "markdown",
   "id": "e0f3b7f4-caaf-4d0b-bf24-143bad5fa703",
   "metadata": {},
   "source": [
    "# This is so cool!"
   ]
  },
  {
   "cell_type": "code",
   "execution_count": 3,
   "id": "25f62880-dfd3-452f-b842-be7d102ba1f3",
   "metadata": {},
   "outputs": [
    {
     "name": "stdout",
     "output_type": "stream",
     "text": [
      "number is even\n"
     ]
    }
   ],
   "source": [
    "if number % 2 == 0:\n",
    "    print(\"number is even\")\n",
    "else:\n",
    "    print(\"number is odd\")"
   ]
  },
  {
   "cell_type": "code",
   "execution_count": 4,
   "id": "000cae6f-c761-4911-aa03-48bb35ec262b",
   "metadata": {},
   "outputs": [
    {
     "name": "stdout",
     "output_type": "stream",
     "text": [
      "1\n",
      "2\n",
      "3\n",
      "4\n",
      "5\n",
      "6\n",
      "7\n",
      "8\n",
      "9\n",
      "10\n",
      "11\n",
      "12\n",
      "13\n",
      "14\n"
     ]
    }
   ],
   "source": [
    "for index_variable in range(1,number+1):\n",
    "    print(index_variable)"
   ]
  },
  {
   "cell_type": "code",
   "execution_count": 5,
   "id": "28a753b3-9f96-44d2-8d02-602a78169d90",
   "metadata": {},
   "outputs": [
    {
     "name": "stdout",
     "output_type": "stream",
     "text": [
      "Species,BodyWeight (kg),BrainWeight (g)\n",
      "\n",
      "MountainBeaver,1.35,8.1\n",
      "\n",
      "Cow,465,423\n",
      "\n",
      "GreyWolf,36.33,119.5\n",
      "\n",
      "Goat,27.66,115\n",
      "\n",
      "GuineaPig,1.04,5.5\n",
      "\n",
      "Diplodocus,11700,50\n",
      "\n",
      "AsianElephant,2547,4603\n",
      "\n",
      "Donkey,187.1,419\n",
      "\n",
      "Horse,521,655\n",
      "\n",
      "PotarMonkey,10,115\n",
      "\n",
      "Cat,3.3,25.6\n",
      "\n",
      "Giraffe,529,680\n",
      "\n",
      "Gorilla,207,406\n",
      "\n",
      "Human,62,1320\n",
      "\n",
      "AfricanElephant,6654,5712\n",
      "\n",
      "Triceratops,9400,70\n",
      "\n",
      "RhesusMonkey,6.8,179\n",
      "\n",
      "Kangaroo,35,56\n",
      "\n",
      "GoldenHamster,0.12,1\n",
      "\n",
      "Mouse,0.023,0.4\n",
      "\n",
      "Rabbit,2.5,12.1\n",
      "\n",
      "Sheep,55.5,175\n",
      "\n",
      "Jaguar,100,157\n",
      "\n",
      "Chimpanzee,52.16,440\n",
      "\n",
      "Rat,0.28,1.9\n",
      "\n",
      "Brachiosaurus,87000,154.5\n",
      "\n",
      "Mole,0.122,3\n",
      "\n",
      "Pig,192,180\n"
     ]
    }
   ],
   "source": [
    "f = open('Data-Animal-Weights.csv')\n",
    "lines = f.readlines()\n",
    "for line in lines:\n",
    "    print(line)\n",
    "f.close()"
   ]
  },
  {
   "cell_type": "code",
   "execution_count": 7,
   "id": "8dfa638a-1938-4214-b788-de190a145c06",
   "metadata": {},
   "outputs": [
    {
     "name": "stdout",
     "output_type": "stream",
     "text": [
      "3\n",
      "[3, 7, 1, 50, 3, 12]\n"
     ]
    }
   ],
   "source": [
    "values = [3, 7, 1, 50, 1, 12]\n",
    "print(values[0])\n",
    "values[4] = 3 \n",
    "print(values)"
   ]
  },
  {
   "cell_type": "code",
   "execution_count": 8,
   "id": "b9fdd356-3e05-493b-955a-30e62db1ec62",
   "metadata": {},
   "outputs": [
    {
     "name": "stdout",
     "output_type": "stream",
     "text": [
      "['Species,BodyWeight (kg),BrainWeight (g)\\n', 'MountainBeaver,1.35,8.1\\n', 'Cow,465,423\\n', 'GreyWolf,36.33,119.5\\n', 'Goat,27.66,115\\n', 'GuineaPig,1.04,5.5\\n', 'Diplodocus,11700,50\\n', 'AsianElephant,2547,4603\\n', 'Donkey,187.1,419\\n', 'Horse,521,655\\n', 'PotarMonkey,10,115\\n', 'Cat,3.3,25.6\\n', 'Giraffe,529,680\\n', 'Gorilla,207,406\\n', 'Human,62,1320\\n', 'AfricanElephant,6654,5712\\n', 'Triceratops,9400,70\\n', 'RhesusMonkey,6.8,179\\n', 'Kangaroo,35,56\\n', 'GoldenHamster,0.12,1\\n', 'Mouse,0.023,0.4\\n', 'Rabbit,2.5,12.1\\n', 'Sheep,55.5,175\\n', 'Jaguar,100,157\\n', 'Chimpanzee,52.16,440\\n', 'Rat,0.28,1.9\\n', 'Brachiosaurus,87000,154.5\\n', 'Mole,0.122,3\\n', 'Pig,192,180']\n"
     ]
    }
   ],
   "source": [
    "print(lines)"
   ]
  },
  {
   "cell_type": "code",
   "execution_count": 27,
   "id": "4b915466-8739-4853-955e-e4d3eb5b29f4",
   "metadata": {},
   "outputs": [
    {
     "name": "stdout",
     "output_type": "stream",
     "text": [
      "4278.43875 574.5214285714286\n"
     ]
    }
   ],
   "source": [
    "f = open('Data-Animal-Weights.csv')\n",
    "lines = f.readlines()\n",
    "\n",
    "mean_body_weight = 0\n",
    "mean_brain_weight = 0\n",
    "\n",
    "count = 0\n",
    "\n",
    "for line in lines[1:]:\n",
    "    line_contents = line.split(',')    \n",
    "    body_weight = float(line_contents[1])\n",
    "    brain_weight = float(line_contents[2])\n",
    "    \n",
    "    # print(body_weight, brain_weight)\n",
    "    \n",
    "    mean_body_weight = mean_body_weight + body_weight\n",
    "    mean_brain_weight = mean_brain_weight + brain_weight\n",
    "\n",
    "    count = count + 1\n",
    "\n",
    "f.close()\n",
    "\n",
    "mean_body_weight = mean_body_weight / count\n",
    "mean_brain_weight = mean_brain_weight / count\n",
    "\n",
    "print(mean_body_weight, mean_brain_weight)"
   ]
  },
  {
   "cell_type": "code",
   "execution_count": null,
   "id": "65a8c313-5ffd-4c0c-815d-2021cde4c15b",
   "metadata": {},
   "outputs": [],
   "source": []
  }
 ],
 "metadata": {
  "kernelspec": {
   "display_name": "Python 3 (ipykernel)",
   "language": "python",
   "name": "python3"
  },
  "language_info": {
   "codemirror_mode": {
    "name": "ipython",
    "version": 3
   },
   "file_extension": ".py",
   "mimetype": "text/x-python",
   "name": "python",
   "nbconvert_exporter": "python",
   "pygments_lexer": "ipython3",
   "version": "3.12.1"
  }
 },
 "nbformat": 4,
 "nbformat_minor": 5
}
