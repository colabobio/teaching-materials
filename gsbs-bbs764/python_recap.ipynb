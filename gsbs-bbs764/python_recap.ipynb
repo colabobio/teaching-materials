{
 "cells": [
  {
   "cell_type": "markdown",
   "id": "f1e4edbc-4d8a-4943-a520-5463ad47c78f",
   "metadata": {},
   "source": [
    "## The Python programming language\n",
    "\n",
    "Python is a very popular general-purpose language. Its design emphasizes code readability and with the use of significant indentation. \n",
    "\n",
    "According to many online rankings, such as [TIOBE index](https://www.tiobe.com/tiobe-index/), Python is one of the most widely used programming languages today.\n",
    "\n",
    "It was created in 1991 by Guido Van Rossum, and thanks to its popularity there are [many resources](https://programminglanguages.info/language/python/) for learning, packages and tools for developers, etc. \n",
    "\n",
    "## Basics of programming in Python\n",
    "\n",
    "This notebook will cover some basics elements of the Python programming language:\n",
    "\n",
    "* Indentation\n",
    "* Variables\n",
    "* If/else statements\n",
    "* For loops\n",
    "* List\n",
    "* Loading and parsing CSV files"
   ]
  },
  {
   "cell_type": "markdown",
   "id": "bf514dd3-86fe-4c1f-aa6c-88bf109e6e26",
   "metadata": {},
   "source": [
    "### Use of indentation in Python\n",
    "\n",
    "Indentation in Python is used to create a group of statements that are executed as a block. Many popular languages such as C, and Java uses braces ({ }) to define a block of code, and Python uses indentation.\n",
    "\n",
    "The indentation in Python code can be done by using any number of whitespaces, but we just have to be consistent (use the same number throughout), however __4 whitespaces for each level of indentation is the best practice__.\n",
    "\n",
    "Some indentation rules in Python:\n",
    "\n",
    "* The first line of Python code can’t have an indentation.\n",
    "* Avoid mixing tabs and whitespaces to create an indentation. \n",
    "* It is preferred to use whitespace than the tab character.\n",
    "* The best practice is to use 4 whitespaces for the first indentation and then keep adding additional 4 whitespaces to increase the indentation."
   ]
  },
  {
   "cell_type": "code",
   "execution_count": 1,
   "id": "d25c2faf-8440-48e5-bae6-13abd12bbe1a",
   "metadata": {},
   "outputs": [
    {
     "name": "stdout",
     "output_type": "stream",
     "text": [
      "The sum of all even numbers between 1 and 100 is  2550\n",
      "The sum of all odd numbers between 1 and 100 is  2500\n"
     ]
    }
   ],
   "source": [
    "sum_even = 0\n",
    "sum_odd = 0\n",
    "for i in range(1, 101):\n",
    "    # 4 whitespaces of indentation for the code under the for loop\n",
    "    if i % 2 == 0:\n",
    "        # 4 more whitespaces for the code under the if/else\n",
    "        sum_even = sum_even + i \n",
    "    else: \n",
    "        sum_odd = sum_odd + i\n",
    "print(\"The sum of all even numbers between 1 and 100 is \", sum_even) \n",
    "print(\"The sum of all odd numbers between 1 and 100 is \", sum_odd) "
   ]
  },
  {
   "cell_type": "markdown",
   "id": "0cab81de-012a-4cd3-a179-c8d31705537e",
   "metadata": {},
   "source": [
    "__Note:__ Comments in Python are identified with a hash symbol, #, and extend to the end of the line. Multiple line comments can be created with a triple-quoted string:"
   ]
  },
  {
   "cell_type": "code",
   "execution_count": 2,
   "id": "aef47e34-f410-4ee2-8a24-dbed0db9b4e5",
   "metadata": {},
   "outputs": [
    {
     "name": "stdout",
     "output_type": "stream",
     "text": [
      "Hello\n"
     ]
    }
   ],
   "source": [
    "# Single line comment\n",
    "\n",
    "'''\n",
    "Multiple line comment\n",
    "Second line of comment\n",
    "And another\n",
    "Below we close the multiple line comment\n",
    "'''\n",
    "\n",
    "# Below is a regular line of code\n",
    "print('Hello')"
   ]
  },
  {
   "cell_type": "markdown",
   "id": "41bb9a66-abc8-41f3-a80f-c09a9e7cae03",
   "metadata": {},
   "source": [
    "### Variables in Python\n",
    "\n",
    "Variables are containers for storing data values. \n",
    "\n",
    "Python has no command for declaring a variable, a new variable is created the moment you first assign a value to it.\n",
    "\n",
    "Also, variables do not need to be declared with any particular type, and can even change type after they have been set."
   ]
  },
  {
   "cell_type": "code",
   "execution_count": 3,
   "id": "ff1c3028-2c65-49e3-af72-663364556e0a",
   "metadata": {},
   "outputs": [
    {
     "name": "stdout",
     "output_type": "stream",
     "text": [
      "0\n",
      "3\n",
      "13\n",
      "Hello world!\n",
      "Hello\n"
     ]
    }
   ],
   "source": [
    "# Demonstrating variables in Python\n",
    "\n",
    "# We create a numeric variable called number:\n",
    "number = 0\n",
    "print(number)\n",
    "number = number + 3\n",
    "print(number)\n",
    "\n",
    "# We create another numberic variable called another_number:\n",
    "another_number = 10\n",
    "number = number + another_number\n",
    "print(number)\n",
    "\n",
    "# We create two variables containing strings of text (This type of data is called string for short)\n",
    "some_text = 'Hello'\n",
    "more_text = \"world!\"\n",
    "\n",
    "# Note how strings can be specified with a single quote (') character, or double quotes (\"). Just use the same quote in one string\n",
    "\n",
    "print(some_text, more_text)\n",
    "\n",
    "# We can change the type of a variable by assigning a new value:\n",
    "number = some_text\n",
    "\n",
    "# Now the number variable contains a string:\n",
    "print(number)"
   ]
  },
  {
   "cell_type": "markdown",
   "id": "09ea1aa6-ea45-4827-a117-8170e43036e8",
   "metadata": {},
   "source": [
    "### If/else statements\n",
    "\n",
    "The if statement allows us to do something when a condition is true. We can optionally use else to handle the situation when the condition is false."
   ]
  },
  {
   "cell_type": "code",
   "execution_count": 4,
   "id": "c88feb82-86d3-47f5-a043-337746fe2590",
   "metadata": {},
   "outputs": [
    {
     "name": "stdout",
     "output_type": "stream",
     "text": [
      "10 is even\n",
      "Good bye!\n"
     ]
    }
   ],
   "source": [
    "if another_number % 2 == 0:\n",
    "    print(another_number, 'is even')\n",
    "else:\n",
    "    print(another_number, 'is odd')\n",
    "\n",
    "if number == 'Hello':    \n",
    "    print('Good bye!')\n",
    "    # We dont' need to have an else pairing an if, if we don't need to do anything when the condition in the if is not true"
   ]
  },
  {
   "cell_type": "markdown",
   "id": "816d4634-c6f2-49d0-99df-13ad11ea5254",
   "metadata": {},
   "source": [
    "### For loops\n",
    "\n",
    "The for loop allows us to repeat a block of instructions a (pre-specified) number of times."
   ]
  },
  {
   "cell_type": "code",
   "execution_count": 5,
   "id": "00999c7d-f908-4dc6-b87f-9b7f90e0379a",
   "metadata": {},
   "outputs": [
    {
     "name": "stdout",
     "output_type": "stream",
     "text": [
      "1\n",
      "2\n",
      "3\n",
      "4\n",
      "5\n",
      "1\n",
      "2\n",
      "3\n",
      "4\n",
      "5\n"
     ]
    }
   ],
   "source": [
    "# We can replace the following 5 print instructions...\n",
    "print(1)\n",
    "print(2)\n",
    "print(3)\n",
    "print(4)\n",
    "print(5)\n",
    "\n",
    "# ...with the following for loop:\n",
    "for i in range(1, 6):\n",
    "    print(i)"
   ]
  },
  {
   "cell_type": "markdown",
   "id": "2c657157-c8e1-4c4c-8fc2-afff1ff596dd",
   "metadata": {},
   "source": [
    "### Lists\n",
    "\n",
    "List are used in Python to store multiple values in one single variable. We can access the individual values in an list by referring to an index number.\n",
    "\n",
    "__Note:__ The index in Python list starts at 0, be careful with this since other languages, such as R, start counting list positions at 1."
   ]
  },
  {
   "cell_type": "code",
   "execution_count": 6,
   "id": "06183863-b201-4b8d-9ff4-09e7906917f3",
   "metadata": {},
   "outputs": [
    {
     "name": "stdout",
     "output_type": "stream",
     "text": [
      "3\n",
      "[3, 7, 1, 50, 3, 12]\n"
     ]
    }
   ],
   "source": [
    "# We can create an list by assigning all its values in one go.\n",
    "numbers = [3, 7, 1, 50, 1, 12]\n",
    "\n",
    "# We print the first value in the numbers list\n",
    "print(numbers[0])\n",
    "\n",
    "# We change the valuye of the 5th element in the list\n",
    "numbers[4] = 3 \n",
    "\n",
    "# We print the entire list:\n",
    "print(numbers)"
   ]
  },
  {
   "cell_type": "markdown",
   "id": "5a4d9530-e290-49c6-bdf4-cc212197e252",
   "metadata": {},
   "source": [
    "### Slicing list in Python\n",
    "\n",
    "Slicing an list is the concept of cutting out – or slicing out – a part of the list. Getting used to this feature can be very convenient when we write more complex programs:"
   ]
  },
  {
   "cell_type": "code",
   "execution_count": 7,
   "id": "cedee3a6-83b4-46be-adbe-678881f4c87e",
   "metadata": {},
   "outputs": [
    {
     "name": "stdout",
     "output_type": "stream",
     "text": [
      "[7, 1]\n",
      "[7, 1, 50, 3, 12]\n",
      "[7, 50]\n",
      "[7, 1]\n",
      "[3, 7, 1, 50, 3, 12]\n",
      "[111, 1]\n"
     ]
    }
   ],
   "source": [
    "# We slice the list numbers from element 1 to 3 - 1 = 2 \n",
    "print(numbers[1:3])\n",
    "\n",
    "# If we don't set the last element, we take a slice from 1 to the end:\n",
    "print(numbers[1:])\n",
    "\n",
    "# We can set the \"step\" when creating a slice in a third optional parameter.\n",
    "# Here, we take a slice from 1 to 4 with a step of 2, so the slice has 2 elements, 1 and 3 from the original list\n",
    "print(numbers[1:5:2])\n",
    "\n",
    "# We can assign the result from a slicing operation, that would make a new list:\n",
    "some_numbers = numbers[1:3]\n",
    "print(some_numbers)\n",
    "\n",
    "# numbers and some_numbers are now \"independent\". If we change something in one of them, it will not affect the other:\n",
    "some_numbers[0] = 111\n",
    "\n",
    "print(numbers)\n",
    "print(some_numbers)"
   ]
  },
  {
   "cell_type": "markdown",
   "id": "f97e1077-b135-4e98-b25b-dbd2f35cbc28",
   "metadata": {},
   "source": [
    "One cool trick is that we can use a negative stepping value, which we can use to revert an list:"
   ]
  },
  {
   "cell_type": "code",
   "execution_count": 8,
   "id": "3b510732-1b50-47a3-9685-e1e3727113fd",
   "metadata": {},
   "outputs": [
    {
     "name": "stdout",
     "output_type": "stream",
     "text": [
      "[12, 3, 50, 1, 7, 3]\n"
     ]
    }
   ],
   "source": [
    "flipped_numbers = numbers[::-1]\n",
    "print(flipped_numbers)"
   ]
  },
  {
   "cell_type": "code",
   "execution_count": 9,
   "id": "a080cf86-80aa-480e-aa7a-b771a6ce16c1",
   "metadata": {},
   "outputs": [
    {
     "name": "stdout",
     "output_type": "stream",
     "text": [
      "['squirrel', 'cat', 'mouse']\n",
      "[101, 'hello', 31, 32, 'python rocks']\n"
     ]
    }
   ],
   "source": [
    "# An list can contain strings:\n",
    "animals = [\"squirrel\", \"cat\", \"mouse\"]\n",
    "print(animals)\n",
    "\n",
    "# We can even have different types of data in the same list\n",
    "mixed_data = [101, \"hello\", 31, 32, 'python rocks']\n",
    "print(mixed_data)"
   ]
  },
  {
   "cell_type": "markdown",
   "id": "cfd3d0f4-e7a3-4f85-be1f-749fc8139825",
   "metadata": {},
   "source": [
    "Finally, if we want to know the number of elements in an list (it's length) we can use the len() function:"
   ]
  },
  {
   "cell_type": "code",
   "execution_count": 10,
   "id": "a34b2334-af49-4628-9eda-1d1fbec89a94",
   "metadata": {},
   "outputs": [
    {
     "name": "stdout",
     "output_type": "stream",
     "text": [
      "2\n",
      "6\n",
      "6\n"
     ]
    }
   ],
   "source": [
    "print(len(some_numbers))\n",
    "print(len(flipped_numbers))\n",
    "print(len(numbers))"
   ]
  },
  {
   "cell_type": "markdown",
   "id": "1008402c-5f85-4010-8347-3ca3e0c2991c",
   "metadata": {},
   "source": [
    "### Loading and parsing CSV files\n",
    "\n",
    "Tables are commonly stored in comma-separated values (CSV) files. We can read CSV files to load the data into our program as follows:"
   ]
  },
  {
   "cell_type": "code",
   "execution_count": 11,
   "id": "4b80a989-15c2-45ee-be81-07b24da67359",
   "metadata": {},
   "outputs": [
    {
     "name": "stdout",
     "output_type": "stream",
     "text": [
      "price,area,bedrooms,bathrooms,stories,mainroad,guestroom,basement,hotwaterheating,airconditioning,parking,prefarea,furnishingstatus\n",
      "\n",
      "13300000,7420,4,2,3,yes,no,no,no,yes,2,yes,furnished\n",
      "\n",
      "12250000,8960,4,4,4,yes,no,no,no,yes,3,no,furnished\n",
      "\n",
      "12250000,9960,3,2,2,yes,no,yes,no,no,2,yes,semi-furnished\n",
      "\n",
      "12215000,7500,4,2,2,yes,no,yes,no,yes,3,yes,furnished\n",
      "\n",
      "11410000,7420,4,1,2,yes,yes,yes,no,yes,2,no,furnished\n",
      "\n",
      "10850000,7500,3,3,1,yes,no,yes,no,yes,2,yes,semi-furnished\n",
      "\n",
      "10150000,8580,4,3,4,yes,no,no,no,yes,2,yes,semi-furnished\n",
      "\n",
      "10150000,16200,5,3,2,yes,no,no,no,no,0,no,unfurnished\n",
      "\n",
      "9870000,8100,4,1,2,yes,yes,yes,no,yes,2,yes,furnished\n",
      "\n",
      "9800000,5750,3,2,4,yes,yes,no,no,yes,1,yes,unfurnished\n",
      "\n"
     ]
    }
   ],
   "source": [
    "'''\n",
    "We are using a well-known data file containing housing information \n",
    "(prices of houses, and their characteristics such as area, number of bedrooms, etc).\n",
    "It has been used to predict house prices as a function of their characteristics.\n",
    "The file can be accessed from this Kaggle page:\n",
    "https://www.kaggle.com/datasets/yasserh/housing-prices-dataset\n",
    "'''\n",
    "\n",
    "f = open('Housing.csv')\n",
    "lines = f.readlines()\n",
    "# We slice the lines list to the first 11 elements since the entire file has more than 500 lines\n",
    "for line in lines[:11]:\n",
    "    print(line)\n",
    "f.close()  # remember to close the file when you are done reading it!"
   ]
  },
  {
   "cell_type": "markdown",
   "id": "81dccf3c-7695-4a91-b54f-b7ef78f7cb82",
   "metadata": {},
   "source": [
    "__Note:__ Now that we have read the data into the lines list, we don't need to open the file again"
   ]
  },
  {
   "cell_type": "code",
   "execution_count": 12,
   "id": "ee76a6a4-05d2-476f-bfe1-0d3d423b97d6",
   "metadata": {},
   "outputs": [
    {
     "name": "stdout",
     "output_type": "stream",
     "text": [
      "price = 13300000\n",
      "area = 7420\n",
      "bedrooms = 4\n",
      "price = 12250000\n",
      "area = 8960\n",
      "bedrooms = 4\n",
      "price = 12250000\n",
      "area = 9960\n",
      "bedrooms = 3\n",
      "price = 12215000\n",
      "area = 7500\n",
      "bedrooms = 4\n",
      "price = 11410000\n",
      "area = 7420\n",
      "bedrooms = 4\n",
      "price = 10850000\n",
      "area = 7500\n",
      "bedrooms = 3\n",
      "price = 10150000\n",
      "area = 8580\n",
      "bedrooms = 4\n",
      "price = 10150000\n",
      "area = 16200\n",
      "bedrooms = 5\n",
      "price = 9870000\n",
      "area = 8100\n",
      "bedrooms = 4\n",
      "price = 9800000\n",
      "area = 5750\n",
      "bedrooms = 3\n"
     ]
    }
   ],
   "source": [
    "# We also skip the first line since it contains the header of the colummns\n",
    "for line in lines[1:11]:\n",
    "    line_contents = line.split(',')\n",
    "    print(\"price =\", line_contents[0])\n",
    "    print(\"area =\", line_contents[1])\n",
    "    print(\"bedrooms =\", line_contents[2])"
   ]
  },
  {
   "cell_type": "code",
   "execution_count": 13,
   "id": "aa61f931-9a02-4930-a31a-7be651944fa1",
   "metadata": {},
   "outputs": [
    {
     "name": "stdout",
     "output_type": "stream",
     "text": [
      "Mean price = 4766729.247706422\n",
      "Mean area = 5150.54128440367\n"
     ]
    }
   ],
   "source": [
    "# We now convert the string values in the data into (integer) numbers so we can use them to make some calculations:\n",
    "mean_price = 0\n",
    "mean_area = 0\n",
    "for line in lines[1:]:\n",
    "    line_contents = line.split(',')\n",
    "    mean_price = mean_price + int(line_contents[0])\n",
    "\n",
    "    # The following notation is a short-hand for mean_area = mean_area + int(line_contents[1])\n",
    "    mean_area += int(line_contents[1])\n",
    "\n",
    "mean_price = mean_price / (len(lines) - 1)\n",
    "print(\"Mean price =\", mean_price)\n",
    "\n",
    "mean_area /= len(lines) - 1\n",
    "print(\"Mean area =\", mean_area)"
   ]
  },
  {
   "cell_type": "code",
   "execution_count": 14,
   "id": "e6b5a692-080a-4b64-8058-b658efc254fb",
   "metadata": {},
   "outputs": [
    {
     "name": "stdout",
     "output_type": "stream",
     "text": [
      "Mean price = 4766729.25\n",
      "Mean area = 5150.5\n"
     ]
    }
   ],
   "source": [
    "# We can format how numbers are printed (does not change the value, just the output):\n",
    "print(f\"Mean price = {mean_price:.2f}\")\n",
    "print(f'Mean area = {mean_area:.1f}')"
   ]
  },
  {
   "cell_type": "markdown",
   "id": "17939875-0fad-4289-96a3-1acfd5429da8",
   "metadata": {},
   "source": [
    "## Some final tricks\n",
    "\n",
    "Since we are using Jupyter Notebooks, we can complement our code with things like embedded images and videos:"
   ]
  },
  {
   "cell_type": "code",
   "execution_count": 15,
   "id": "326b801c-51dc-4992-a721-e6ee4b273980",
   "metadata": {},
   "outputs": [
    {
     "data": {
      "text/html": [
       "<iframe width=\"560\" height=\"315\"\n",
       " src=\"https://youtube.com/embed/5pf0_bpNbkw\"\n",
       "</iframe>\n"
      ],
      "text/plain": [
       "<IPython.core.display.HTML object>"
      ]
     },
     "metadata": {},
     "output_type": "display_data"
    }
   ],
   "source": [
    "%%HTML\n",
    "<iframe width=\"560\" height=\"315\"\n",
    " src=\"https://youtube.com/embed/5pf0_bpNbkw\"\n",
    "</iframe>"
   ]
  },
  {
   "cell_type": "markdown",
   "id": "93ab84a9-118d-40c2-a05b-189faf34869d",
   "metadata": {},
   "source": [
    "![Python Basics Cheat Sheet](https://images.datacamp.com/image/upload/v1694526357/Python_Basics_Cheat_Sheet_27d91b08b7.png)"
   ]
  },
  {
   "cell_type": "code",
   "execution_count": null,
   "id": "e08eb340-b6c8-4fd6-b904-52e166621828",
   "metadata": {},
   "outputs": [],
   "source": []
  }
 ],
 "metadata": {
  "kernelspec": {
   "display_name": "Python 3 (ipykernel)",
   "language": "python",
   "name": "python3"
  },
  "language_info": {
   "codemirror_mode": {
    "name": "ipython",
    "version": 3
   },
   "file_extension": ".py",
   "mimetype": "text/x-python",
   "name": "python",
   "nbconvert_exporter": "python",
   "pygments_lexer": "ipython3",
   "version": "3.12.1"
  }
 },
 "nbformat": 4,
 "nbformat_minor": 5
}
