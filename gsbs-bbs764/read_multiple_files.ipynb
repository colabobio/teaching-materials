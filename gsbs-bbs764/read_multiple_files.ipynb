{
 "cells": [
  {
   "cell_type": "code",
   "execution_count": 6,
   "id": "8d6893d4-5f78-47f9-9dbb-1732bdb1c3f1",
   "metadata": {},
   "outputs": [],
   "source": [
    "import os\n",
    "import pandas as pd"
   ]
  },
  {
   "cell_type": "code",
   "execution_count": 7,
   "id": "592f2fb0-9626-4130-8421-6371a3f379c2",
   "metadata": {},
   "outputs": [],
   "source": [
    "dir_contents = os.listdir('data')"
   ]
  },
  {
   "cell_type": "code",
   "execution_count": 10,
   "id": "51c190d0-501c-4fc6-8d68-dccafe1294f6",
   "metadata": {},
   "outputs": [
    {
     "name": "stdout",
     "output_type": "stream",
     "text": [
      "Found file data/data-1.csv\n",
      "Found file data/data-3.csv\n",
      "Found file data/data-2.csv\n"
     ]
    }
   ],
   "source": [
    "for fname in dir_contents:\n",
    "    full_name = os.path.join('data', fname)    \n",
    "    if os.path.isfile(full_name):\n",
    "        print('Found file', full_name)\n",
    "        pd.read_csv(full_name)"
   ]
  },
  {
   "cell_type": "code",
   "execution_count": null,
   "id": "d49a2bf0-ac4d-45f3-b850-9551efe4f1fa",
   "metadata": {},
   "outputs": [],
   "source": []
  }
 ],
 "metadata": {
  "kernelspec": {
   "display_name": "Python 3 (ipykernel)",
   "language": "python",
   "name": "python3"
  },
  "language_info": {
   "codemirror_mode": {
    "name": "ipython",
    "version": 3
   },
   "file_extension": ".py",
   "mimetype": "text/x-python",
   "name": "python",
   "nbconvert_exporter": "python",
   "pygments_lexer": "ipython3",
   "version": "3.12.1"
  }
 },
 "nbformat": 4,
 "nbformat_minor": 5
}
