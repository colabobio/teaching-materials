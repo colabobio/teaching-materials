{
 "cells": [
  {
   "cell_type": "code",
   "execution_count": 3,
   "id": "0b8e338b-3d43-4c9a-9a5f-3a71bd634497",
   "metadata": {},
   "outputs": [],
   "source": [
    "import pandas as pd\n",
    "import matplotlib.pyplot as plt"
   ]
  },
  {
   "cell_type": "code",
   "execution_count": 4,
   "id": "d88a3052-0c0d-412e-ae8b-6c5200e527df",
   "metadata": {
    "scrolled": true
   },
   "outputs": [
    {
     "data": {
      "text/html": [
       "<div>\n",
       "<style scoped>\n",
       "    .dataframe tbody tr th:only-of-type {\n",
       "        vertical-align: middle;\n",
       "    }\n",
       "\n",
       "    .dataframe tbody tr th {\n",
       "        vertical-align: top;\n",
       "    }\n",
       "\n",
       "    .dataframe thead th {\n",
       "        text-align: right;\n",
       "    }\n",
       "</style>\n",
       "<table border=\"1\" class=\"dataframe\">\n",
       "  <thead>\n",
       "    <tr style=\"text-align: right;\">\n",
       "      <th></th>\n",
       "      <th>rsem.out.D01_MDDC_Ctrl_0h</th>\n",
       "      <th>rsem.out.D01_MDDC_Ctrl_120h</th>\n",
       "      <th>rsem.out.D01_MDDC_Lps_12h</th>\n",
       "      <th>rsem.out.D01_MDDC_Lps_1h</th>\n",
       "      <th>rsem.out.D01_MDDC_Lps_24h</th>\n",
       "      <th>rsem.out.D01_MDDC_Lps_2h</th>\n",
       "      <th>rsem.out.D01_MDDC_Lps_4h</th>\n",
       "      <th>rsem.out.D01_MDDC_Lps_6h</th>\n",
       "      <th>rsem.out.D09_MDDC_Ctrl_0h</th>\n",
       "      <th>rsem.out.D09_MDDC_Ctrl_120h</th>\n",
       "      <th>...</th>\n",
       "      <th>rsem.out.F33_MDDC_Lps_1h</th>\n",
       "      <th>rsem.out.F33_MDDC_Lps_24h</th>\n",
       "      <th>rsem.out.F33_MDDC_Lps_2h</th>\n",
       "      <th>rsem.out.F33_MDDC_Lps_30m</th>\n",
       "      <th>rsem.out.F33_MDDC_Lps_4h</th>\n",
       "      <th>rsem.out.F33_MDDC_Lps_6h</th>\n",
       "      <th>rsem.out.G40_MDDC_Lps_2h</th>\n",
       "      <th>rsem.out.G40_MDDC_Lps_6h</th>\n",
       "      <th>rsem.out.G41_MDDC_Lps_2h</th>\n",
       "      <th>rsem.out.G41_MDDC_Lps_6h</th>\n",
       "    </tr>\n",
       "  </thead>\n",
       "  <tbody>\n",
       "    <tr>\n",
       "      <th>RPS11</th>\n",
       "      <td>2966.003181</td>\n",
       "      <td>2527.217203</td>\n",
       "      <td>2232.529003</td>\n",
       "      <td>2781.490688</td>\n",
       "      <td>1629.466099</td>\n",
       "      <td>2818.612413</td>\n",
       "      <td>2380.521452</td>\n",
       "      <td>2465.919133</td>\n",
       "      <td>2710.162233</td>\n",
       "      <td>3220.602733</td>\n",
       "      <td>...</td>\n",
       "      <td>2975.042984</td>\n",
       "      <td>1878.622185</td>\n",
       "      <td>2693.793328</td>\n",
       "      <td>2923.381798</td>\n",
       "      <td>2203.596572</td>\n",
       "      <td>2096.296081</td>\n",
       "      <td>2832.544701</td>\n",
       "      <td>1987.454305</td>\n",
       "      <td>2474.734283</td>\n",
       "      <td>2314.386619</td>\n",
       "    </tr>\n",
       "    <tr>\n",
       "      <th>ELMO2</th>\n",
       "      <td>24.944727</td>\n",
       "      <td>26.241479</td>\n",
       "      <td>45.047532</td>\n",
       "      <td>20.347192</td>\n",
       "      <td>33.263392</td>\n",
       "      <td>18.344631</td>\n",
       "      <td>31.999284</td>\n",
       "      <td>44.436236</td>\n",
       "      <td>24.502283</td>\n",
       "      <td>36.076469</td>\n",
       "      <td>...</td>\n",
       "      <td>23.163764</td>\n",
       "      <td>31.301492</td>\n",
       "      <td>16.788901</td>\n",
       "      <td>24.070872</td>\n",
       "      <td>34.901587</td>\n",
       "      <td>49.222670</td>\n",
       "      <td>24.843361</td>\n",
       "      <td>33.454842</td>\n",
       "      <td>21.330241</td>\n",
       "      <td>41.851846</td>\n",
       "    </tr>\n",
       "    <tr>\n",
       "      <th>PNMA1</th>\n",
       "      <td>22.911707</td>\n",
       "      <td>22.911707</td>\n",
       "      <td>21.881046</td>\n",
       "      <td>21.881046</td>\n",
       "      <td>41.122517</td>\n",
       "      <td>21.881046</td>\n",
       "      <td>21.881046</td>\n",
       "      <td>27.010681</td>\n",
       "      <td>21.057745</td>\n",
       "      <td>18.217202</td>\n",
       "      <td>...</td>\n",
       "      <td>21.636211</td>\n",
       "      <td>36.420088</td>\n",
       "      <td>18.179567</td>\n",
       "      <td>25.073311</td>\n",
       "      <td>20.486331</td>\n",
       "      <td>21.636211</td>\n",
       "      <td>20.666177</td>\n",
       "      <td>28.983175</td>\n",
       "      <td>22.456111</td>\n",
       "      <td>29.381395</td>\n",
       "    </tr>\n",
       "    <tr>\n",
       "      <th>MMP2</th>\n",
       "      <td>1.041861</td>\n",
       "      <td>1.041861</td>\n",
       "      <td>1.041861</td>\n",
       "      <td>1.041861</td>\n",
       "      <td>1.041861</td>\n",
       "      <td>1.041861</td>\n",
       "      <td>1.041861</td>\n",
       "      <td>1.041861</td>\n",
       "      <td>2.480635</td>\n",
       "      <td>0.874274</td>\n",
       "      <td>...</td>\n",
       "      <td>2.018865</td>\n",
       "      <td>0.931542</td>\n",
       "      <td>0.931542</td>\n",
       "      <td>0.931542</td>\n",
       "      <td>0.931542</td>\n",
       "      <td>2.018865</td>\n",
       "      <td>2.555164</td>\n",
       "      <td>1.632957</td>\n",
       "      <td>2.003892</td>\n",
       "      <td>2.200302</td>\n",
       "    </tr>\n",
       "    <tr>\n",
       "      <th>TRAF3IP2-AS1</th>\n",
       "      <td>2.889639</td>\n",
       "      <td>1.583910</td>\n",
       "      <td>1.583910</td>\n",
       "      <td>2.889639</td>\n",
       "      <td>1.583910</td>\n",
       "      <td>1.583910</td>\n",
       "      <td>2.889639</td>\n",
       "      <td>2.889639</td>\n",
       "      <td>1.652200</td>\n",
       "      <td>1.652200</td>\n",
       "      <td>...</td>\n",
       "      <td>1.627323</td>\n",
       "      <td>1.627323</td>\n",
       "      <td>2.942854</td>\n",
       "      <td>1.627323</td>\n",
       "      <td>4.258908</td>\n",
       "      <td>2.942854</td>\n",
       "      <td>2.356925</td>\n",
       "      <td>3.393431</td>\n",
       "      <td>3.395857</td>\n",
       "      <td>2.253869</td>\n",
       "    </tr>\n",
       "    <tr>\n",
       "      <th>...</th>\n",
       "      <td>...</td>\n",
       "      <td>...</td>\n",
       "      <td>...</td>\n",
       "      <td>...</td>\n",
       "      <td>...</td>\n",
       "      <td>...</td>\n",
       "      <td>...</td>\n",
       "      <td>...</td>\n",
       "      <td>...</td>\n",
       "      <td>...</td>\n",
       "      <td>...</td>\n",
       "      <td>...</td>\n",
       "      <td>...</td>\n",
       "      <td>...</td>\n",
       "      <td>...</td>\n",
       "      <td>...</td>\n",
       "      <td>...</td>\n",
       "      <td>...</td>\n",
       "      <td>...</td>\n",
       "      <td>...</td>\n",
       "      <td>...</td>\n",
       "    </tr>\n",
       "    <tr>\n",
       "      <th>PCIF1</th>\n",
       "      <td>19.313654</td>\n",
       "      <td>19.313654</td>\n",
       "      <td>20.733990</td>\n",
       "      <td>14.990989</td>\n",
       "      <td>28.402056</td>\n",
       "      <td>12.788201</td>\n",
       "      <td>10.550735</td>\n",
       "      <td>17.164767</td>\n",
       "      <td>19.900583</td>\n",
       "      <td>19.900583</td>\n",
       "      <td>...</td>\n",
       "      <td>16.108115</td>\n",
       "      <td>24.789572</td>\n",
       "      <td>10.708126</td>\n",
       "      <td>19.358573</td>\n",
       "      <td>11.786081</td>\n",
       "      <td>16.108115</td>\n",
       "      <td>12.606197</td>\n",
       "      <td>21.777373</td>\n",
       "      <td>16.560121</td>\n",
       "      <td>16.560121</td>\n",
       "    </tr>\n",
       "    <tr>\n",
       "      <th>PIK3IP1</th>\n",
       "      <td>8.416499</td>\n",
       "      <td>6.804120</td>\n",
       "      <td>2.418235</td>\n",
       "      <td>5.125868</td>\n",
       "      <td>1.429923</td>\n",
       "      <td>4.254408</td>\n",
       "      <td>0.355897</td>\n",
       "      <td>1.429923</td>\n",
       "      <td>9.827003</td>\n",
       "      <td>7.228761</td>\n",
       "      <td>...</td>\n",
       "      <td>3.862856</td>\n",
       "      <td>4.873248</td>\n",
       "      <td>0.883002</td>\n",
       "      <td>8.967542</td>\n",
       "      <td>2.859646</td>\n",
       "      <td>1.865377</td>\n",
       "      <td>2.178233</td>\n",
       "      <td>5.949715</td>\n",
       "      <td>2.339124</td>\n",
       "      <td>4.619712</td>\n",
       "    </tr>\n",
       "    <tr>\n",
       "      <th>SNRPD2</th>\n",
       "      <td>96.862861</td>\n",
       "      <td>79.704790</td>\n",
       "      <td>65.813845</td>\n",
       "      <td>82.004761</td>\n",
       "      <td>79.704790</td>\n",
       "      <td>79.704790</td>\n",
       "      <td>44.615771</td>\n",
       "      <td>65.813845</td>\n",
       "      <td>97.180902</td>\n",
       "      <td>92.159707</td>\n",
       "      <td>...</td>\n",
       "      <td>67.981267</td>\n",
       "      <td>78.123978</td>\n",
       "      <td>84.955390</td>\n",
       "      <td>84.955390</td>\n",
       "      <td>64.630326</td>\n",
       "      <td>60.187407</td>\n",
       "      <td>74.418169</td>\n",
       "      <td>67.742037</td>\n",
       "      <td>52.001339</td>\n",
       "      <td>87.492902</td>\n",
       "    </tr>\n",
       "    <tr>\n",
       "      <th>SLC39A6</th>\n",
       "      <td>63.113874</td>\n",
       "      <td>67.075910</td>\n",
       "      <td>58.240562</td>\n",
       "      <td>56.584399</td>\n",
       "      <td>107.865091</td>\n",
       "      <td>59.062463</td>\n",
       "      <td>58.240562</td>\n",
       "      <td>49.778744</td>\n",
       "      <td>63.885608</td>\n",
       "      <td>75.226267</td>\n",
       "      <td>...</td>\n",
       "      <td>66.419768</td>\n",
       "      <td>69.119406</td>\n",
       "      <td>66.419768</td>\n",
       "      <td>70.473403</td>\n",
       "      <td>55.739436</td>\n",
       "      <td>50.476137</td>\n",
       "      <td>51.432619</td>\n",
       "      <td>74.394764</td>\n",
       "      <td>61.052326</td>\n",
       "      <td>64.507886</td>\n",
       "    </tr>\n",
       "    <tr>\n",
       "      <th>CTSC</th>\n",
       "      <td>3820.365917</td>\n",
       "      <td>2612.403805</td>\n",
       "      <td>2123.479027</td>\n",
       "      <td>3539.604422</td>\n",
       "      <td>2411.422662</td>\n",
       "      <td>3355.972573</td>\n",
       "      <td>2960.638776</td>\n",
       "      <td>2514.713105</td>\n",
       "      <td>4053.827302</td>\n",
       "      <td>3070.752434</td>\n",
       "      <td>...</td>\n",
       "      <td>4029.960554</td>\n",
       "      <td>1754.713479</td>\n",
       "      <td>3595.784900</td>\n",
       "      <td>4197.070699</td>\n",
       "      <td>3085.840711</td>\n",
       "      <td>2716.251009</td>\n",
       "      <td>3082.538558</td>\n",
       "      <td>1896.073818</td>\n",
       "      <td>2798.099348</td>\n",
       "      <td>2464.399386</td>\n",
       "    </tr>\n",
       "  </tbody>\n",
       "</table>\n",
       "<p>10049 rows × 93 columns</p>\n",
       "</div>"
      ],
      "text/plain": [
       "              rsem.out.D01_MDDC_Ctrl_0h  rsem.out.D01_MDDC_Ctrl_120h  \\\n",
       "RPS11                       2966.003181                  2527.217203   \n",
       "ELMO2                         24.944727                    26.241479   \n",
       "PNMA1                         22.911707                    22.911707   \n",
       "MMP2                           1.041861                     1.041861   \n",
       "TRAF3IP2-AS1                   2.889639                     1.583910   \n",
       "...                                 ...                          ...   \n",
       "PCIF1                         19.313654                    19.313654   \n",
       "PIK3IP1                        8.416499                     6.804120   \n",
       "SNRPD2                        96.862861                    79.704790   \n",
       "SLC39A6                       63.113874                    67.075910   \n",
       "CTSC                        3820.365917                  2612.403805   \n",
       "\n",
       "              rsem.out.D01_MDDC_Lps_12h  rsem.out.D01_MDDC_Lps_1h  \\\n",
       "RPS11                       2232.529003               2781.490688   \n",
       "ELMO2                         45.047532                 20.347192   \n",
       "PNMA1                         21.881046                 21.881046   \n",
       "MMP2                           1.041861                  1.041861   \n",
       "TRAF3IP2-AS1                   1.583910                  2.889639   \n",
       "...                                 ...                       ...   \n",
       "PCIF1                         20.733990                 14.990989   \n",
       "PIK3IP1                        2.418235                  5.125868   \n",
       "SNRPD2                        65.813845                 82.004761   \n",
       "SLC39A6                       58.240562                 56.584399   \n",
       "CTSC                        2123.479027               3539.604422   \n",
       "\n",
       "              rsem.out.D01_MDDC_Lps_24h  rsem.out.D01_MDDC_Lps_2h  \\\n",
       "RPS11                       1629.466099               2818.612413   \n",
       "ELMO2                         33.263392                 18.344631   \n",
       "PNMA1                         41.122517                 21.881046   \n",
       "MMP2                           1.041861                  1.041861   \n",
       "TRAF3IP2-AS1                   1.583910                  1.583910   \n",
       "...                                 ...                       ...   \n",
       "PCIF1                         28.402056                 12.788201   \n",
       "PIK3IP1                        1.429923                  4.254408   \n",
       "SNRPD2                        79.704790                 79.704790   \n",
       "SLC39A6                      107.865091                 59.062463   \n",
       "CTSC                        2411.422662               3355.972573   \n",
       "\n",
       "              rsem.out.D01_MDDC_Lps_4h  rsem.out.D01_MDDC_Lps_6h  \\\n",
       "RPS11                      2380.521452               2465.919133   \n",
       "ELMO2                        31.999284                 44.436236   \n",
       "PNMA1                        21.881046                 27.010681   \n",
       "MMP2                          1.041861                  1.041861   \n",
       "TRAF3IP2-AS1                  2.889639                  2.889639   \n",
       "...                                ...                       ...   \n",
       "PCIF1                        10.550735                 17.164767   \n",
       "PIK3IP1                       0.355897                  1.429923   \n",
       "SNRPD2                       44.615771                 65.813845   \n",
       "SLC39A6                      58.240562                 49.778744   \n",
       "CTSC                       2960.638776               2514.713105   \n",
       "\n",
       "              rsem.out.D09_MDDC_Ctrl_0h  rsem.out.D09_MDDC_Ctrl_120h  ...  \\\n",
       "RPS11                       2710.162233                  3220.602733  ...   \n",
       "ELMO2                         24.502283                    36.076469  ...   \n",
       "PNMA1                         21.057745                    18.217202  ...   \n",
       "MMP2                           2.480635                     0.874274  ...   \n",
       "TRAF3IP2-AS1                   1.652200                     1.652200  ...   \n",
       "...                                 ...                          ...  ...   \n",
       "PCIF1                         19.900583                    19.900583  ...   \n",
       "PIK3IP1                        9.827003                     7.228761  ...   \n",
       "SNRPD2                        97.180902                    92.159707  ...   \n",
       "SLC39A6                       63.885608                    75.226267  ...   \n",
       "CTSC                        4053.827302                  3070.752434  ...   \n",
       "\n",
       "              rsem.out.F33_MDDC_Lps_1h  rsem.out.F33_MDDC_Lps_24h  \\\n",
       "RPS11                      2975.042984                1878.622185   \n",
       "ELMO2                        23.163764                  31.301492   \n",
       "PNMA1                        21.636211                  36.420088   \n",
       "MMP2                          2.018865                   0.931542   \n",
       "TRAF3IP2-AS1                  1.627323                   1.627323   \n",
       "...                                ...                        ...   \n",
       "PCIF1                        16.108115                  24.789572   \n",
       "PIK3IP1                       3.862856                   4.873248   \n",
       "SNRPD2                       67.981267                  78.123978   \n",
       "SLC39A6                      66.419768                  69.119406   \n",
       "CTSC                       4029.960554                1754.713479   \n",
       "\n",
       "              rsem.out.F33_MDDC_Lps_2h  rsem.out.F33_MDDC_Lps_30m  \\\n",
       "RPS11                      2693.793328                2923.381798   \n",
       "ELMO2                        16.788901                  24.070872   \n",
       "PNMA1                        18.179567                  25.073311   \n",
       "MMP2                          0.931542                   0.931542   \n",
       "TRAF3IP2-AS1                  2.942854                   1.627323   \n",
       "...                                ...                        ...   \n",
       "PCIF1                        10.708126                  19.358573   \n",
       "PIK3IP1                       0.883002                   8.967542   \n",
       "SNRPD2                       84.955390                  84.955390   \n",
       "SLC39A6                      66.419768                  70.473403   \n",
       "CTSC                       3595.784900                4197.070699   \n",
       "\n",
       "              rsem.out.F33_MDDC_Lps_4h  rsem.out.F33_MDDC_Lps_6h  \\\n",
       "RPS11                      2203.596572               2096.296081   \n",
       "ELMO2                        34.901587                 49.222670   \n",
       "PNMA1                        20.486331                 21.636211   \n",
       "MMP2                          0.931542                  2.018865   \n",
       "TRAF3IP2-AS1                  4.258908                  2.942854   \n",
       "...                                ...                       ...   \n",
       "PCIF1                        11.786081                 16.108115   \n",
       "PIK3IP1                       2.859646                  1.865377   \n",
       "SNRPD2                       64.630326                 60.187407   \n",
       "SLC39A6                      55.739436                 50.476137   \n",
       "CTSC                       3085.840711               2716.251009   \n",
       "\n",
       "              rsem.out.G40_MDDC_Lps_2h  rsem.out.G40_MDDC_Lps_6h  \\\n",
       "RPS11                      2832.544701               1987.454305   \n",
       "ELMO2                        24.843361                 33.454842   \n",
       "PNMA1                        20.666177                 28.983175   \n",
       "MMP2                          2.555164                  1.632957   \n",
       "TRAF3IP2-AS1                  2.356925                  3.393431   \n",
       "...                                ...                       ...   \n",
       "PCIF1                        12.606197                 21.777373   \n",
       "PIK3IP1                       2.178233                  5.949715   \n",
       "SNRPD2                       74.418169                 67.742037   \n",
       "SLC39A6                      51.432619                 74.394764   \n",
       "CTSC                       3082.538558               1896.073818   \n",
       "\n",
       "              rsem.out.G41_MDDC_Lps_2h  rsem.out.G41_MDDC_Lps_6h  \n",
       "RPS11                      2474.734283               2314.386619  \n",
       "ELMO2                        21.330241                 41.851846  \n",
       "PNMA1                        22.456111                 29.381395  \n",
       "MMP2                          2.003892                  2.200302  \n",
       "TRAF3IP2-AS1                  3.395857                  2.253869  \n",
       "...                                ...                       ...  \n",
       "PCIF1                        16.560121                 16.560121  \n",
       "PIK3IP1                       2.339124                  4.619712  \n",
       "SNRPD2                       52.001339                 87.492902  \n",
       "SLC39A6                      61.052326                 64.507886  \n",
       "CTSC                       2798.099348               2464.399386  \n",
       "\n",
       "[10049 rows x 93 columns]"
      ]
     },
     "execution_count": 4,
     "metadata": {},
     "output_type": "execute_result"
    }
   ],
   "source": [
    "df = pd.read_csv('batch_corrected_tpm.tsv', sep='\\t')\n",
    "df"
   ]
  },
  {
   "cell_type": "code",
   "execution_count": 7,
   "id": "f80e496d-8277-4f8b-8510-5bcd125e856b",
   "metadata": {},
   "outputs": [
    {
     "name": "stdout",
     "output_type": "stream",
     "text": [
      "['.D01_']\n",
      "['.D01_']\n",
      "['.D01_']\n",
      "['.D01_']\n",
      "['.D01_']\n",
      "['.D01_']\n",
      "['.D01_']\n",
      "['.D01_']\n",
      "['.D09_']\n",
      "['.D09_']\n",
      "['.D09_']\n",
      "['.D09_']\n",
      "['.D09_']\n",
      "['.D09_']\n",
      "['.D09_']\n",
      "['.D09_']\n",
      "['.D10_']\n",
      "['.D10_']\n",
      "['.D10_']\n",
      "['.D10_']\n",
      "['.D10_']\n",
      "['.D10_']\n",
      "['.D12_']\n",
      "['.D12_']\n",
      "['.D12_']\n",
      "['.D12_']\n",
      "['.D13_']\n",
      "['.D13_']\n",
      "['.D13_']\n",
      "['.D13_']\n",
      "['.D14_']\n",
      "['.D14_']\n",
      "['.D14_']\n",
      "['.D14_']\n",
      "['.E01_']\n",
      "['.E01_']\n",
      "['.E01_']\n",
      "['.E02_']\n",
      "['.E02_']\n",
      "['.E02_']\n",
      "['.E81_']\n",
      "['.E81_']\n",
      "['.E81_']\n",
      "['.E81_']\n",
      "['.E81_']\n",
      "['.E86_']\n",
      "['.E86_']\n",
      "['.E86_']\n",
      "['.E86_']\n",
      "['.E86_']\n",
      "['.E86_']\n",
      "['.E91_']\n",
      "['.E91_']\n",
      "['.E91_']\n",
      "['.E91_']\n",
      "['.E91_']\n",
      "['.E91_']\n",
      "['.E91_']\n",
      "['.E94_']\n",
      "['.E94_']\n",
      "['.E94_']\n",
      "['.E94_']\n",
      "['.E94_']\n",
      "['.E94_']\n",
      "['.E94_']\n",
      "['.F30_']\n",
      "['.F30_']\n",
      "['.F30_']\n",
      "['.F30_']\n",
      "['.F30_']\n",
      "['.F30_']\n",
      "['.F30_']\n",
      "['.F30_']\n",
      "['.F32_']\n",
      "['.F32_']\n",
      "['.F32_']\n",
      "['.F32_']\n",
      "['.F32_']\n",
      "['.F32_']\n",
      "['.F32_']\n",
      "['.F32_']\n",
      "['.F33_']\n",
      "['.F33_']\n",
      "['.F33_']\n",
      "['.F33_']\n",
      "['.F33_']\n",
      "['.F33_']\n",
      "['.F33_']\n",
      "['.F33_']\n",
      "['.G40_']\n",
      "['.G40_']\n",
      "['.G41_']\n",
      "['.G41_']\n",
      "['D01', 'D09', 'D10', 'D12', 'D13', 'D14', 'E01', 'E02', 'E81', 'E86', 'E91', 'E94', 'F30', 'F32', 'F33', 'G40', 'G41']\n"
     ]
    }
   ],
   "source": [
    "import re\n",
    "donors = []\n",
    "for col in df.columns:    \n",
    "    res = re.findall('.[A-Z][0-9]+_', col)\n",
    "    print(res)\n",
    "    if len(res) == 1:\n",
    "        \n",
    "        id = res[0][1:-1]\n",
    "        if id not in donors:\n",
    "            donors += [id]\n",
    "print(donors)"
   ]
  },
  {
   "cell_type": "code",
   "execution_count": 104,
   "id": "3d5293a8-6812-42db-8e01-7efda0fbea87",
   "metadata": {},
   "outputs": [
    {
     "data": {
      "image/png": "[encoded data removed]",
      "text/plain": [
       "<Figure size 640x480 with 1 Axes>"
      ]
     },
     "metadata": {},
     "output_type": "display_data"
    }
   ],
   "source": [
    "df_donor = df.filter(regex='D09_MDDC_Lps')\n",
    "dft = df_donor.transpose()\n",
    "dft['time'] = dft.index\n",
    "tstr = dft['time'].str.split('_').str[3].str.replace('h', '')\n",
    "dft['time'] = tstr.astype(int)\n",
    "dft.sort_values(by='time', inplace=True)\n",
    "plt.bar(samples, dft['NF1'])\n",
    "plt.xticks(range(1,7), ['1h', '2h', '4h', '6h', '12h', '24h'])\n",
    "plt.savefig(\"plt.pdf\")"
   ]
  },
  {
   "cell_type": "code",
   "execution_count": 16,
   "id": "57dbb855-30e6-46d6-be2c-3c600e18477b",
   "metadata": {
    "scrolled": true
   },
   "outputs": [],
   "source": [
    "def get_donor_data(all_data, donor_id):\n",
    "    print(donor_id)\n",
    "    donor_data = all_data.filter(regex=donor_id + '_MDDC_Lps')\n",
    "    donor_data = donor_data.transpose()\n",
    "    donor_data['time'] = donor_data.index\n",
    "    tstr = donor_data['time'].str.split('_')\n",
    "    \n",
    "    tstr = tstr.str[3].str.replace('h', '')\n",
    "    \n",
    "    # print(tstr)\n",
    "    # donor_data['time'] = tstr.astype(int)\n",
    "    # donor_data.sort_values(by='time', inplace=True)\n",
    "    # return donor_data"
   ]
  },
  {
   "cell_type": "code",
   "execution_count": 17,
   "id": "37b7a0db-c9bf-4734-b5d9-9e41837e94a5",
   "metadata": {},
   "outputs": [
    {
     "name": "stdout",
     "output_type": "stream",
     "text": [
      "D01\n",
      "rsem.out.D01_MDDC_Lps_12h    12\n",
      "rsem.out.D01_MDDC_Lps_1h      1\n",
      "rsem.out.D01_MDDC_Lps_24h    24\n",
      "rsem.out.D01_MDDC_Lps_2h      2\n",
      "rsem.out.D01_MDDC_Lps_4h      4\n",
      "rsem.out.D01_MDDC_Lps_6h      6\n",
      "Name: time, dtype: object\n",
      "D09\n",
      "rsem.out.D09_MDDC_Lps_12h    12\n",
      "rsem.out.D09_MDDC_Lps_1h      1\n",
      "rsem.out.D09_MDDC_Lps_24h    24\n",
      "rsem.out.D09_MDDC_Lps_2h      2\n",
      "rsem.out.D09_MDDC_Lps_4h      4\n",
      "rsem.out.D09_MDDC_Lps_6h      6\n",
      "Name: time, dtype: object\n",
      "D10\n",
      "rsem.out.D10_MDDC_Lps_12h    12\n",
      "rsem.out.D10_MDDC_Lps_24h    24\n",
      "rsem.out.D10_MDDC_Lps_2h      2\n",
      "rsem.out.D10_MDDC_Lps_4h      4\n",
      "rsem.out.D10_MDDC_Lps_6h      6\n",
      "Name: time, dtype: object\n",
      "D12\n",
      "rsem.out.D12_MDDC_Lps_12h    12\n",
      "rsem.out.D12_MDDC_Lps_1h      1\n",
      "rsem.out.D12_MDDC_Lps_4h      4\n",
      "Name: time, dtype: object\n",
      "D13\n",
      "rsem.out.D13_MDDC_Lps_12h    12\n",
      "rsem.out.D13_MDDC_Lps_1h      1\n",
      "rsem.out.D13_MDDC_Lps_4h      4\n",
      "Name: time, dtype: object\n",
      "D14\n",
      "rsem.out.D14_MDDC_Lps_1h    1\n",
      "rsem.out.D14_MDDC_Lps_4h    4\n",
      "rsem.out.D14_MDDC_Lps_6h    6\n",
      "Name: time, dtype: object\n",
      "E01\n",
      "rsem.out.E01_MDDC_Lps_2h    2\n",
      "rsem.out.E01_MDDC_Lps_4h    4\n",
      "Name: time, dtype: object\n",
      "E02\n",
      "rsem.out.E02_MDDC_Lps_2h    2\n",
      "rsem.out.E02_MDDC_Lps_4h    4\n",
      "Name: time, dtype: object\n",
      "E81\n",
      "rsem.out.E81_MDDC_Lps_24h     24\n",
      "rsem.out.E81_MDDC_Lps_2h       2\n",
      "rsem.out.E81_MDDC_Lps_30m    30m\n",
      "rsem.out.E81_MDDC_Lps_4h       4\n",
      "Name: time, dtype: object\n"
     ]
    },
    {
     "ename": "ValueError",
     "evalue": "invalid literal for int() with base 10: '30m'",
     "output_type": "error",
     "traceback": [
      "\u001b[0;31m---------------------------------------------------------------------------\u001b[0m",
      "\u001b[0;31mValueError\u001b[0m                                Traceback (most recent call last)",
      "Cell \u001b[0;32mIn[17], line 4\u001b[0m\n\u001b[1;32m      2\u001b[0m gene \u001b[38;5;241m=\u001b[39m \u001b[38;5;124m'\u001b[39m\u001b[38;5;124mTNF\u001b[39m\u001b[38;5;124m'\u001b[39m\n\u001b[1;32m      3\u001b[0m \u001b[38;5;28;01mfor\u001b[39;00m \u001b[38;5;28mid\u001b[39m \u001b[38;5;129;01min\u001b[39;00m donors:\n\u001b[0;32m----> 4\u001b[0m    dd \u001b[38;5;241m=\u001b[39m \u001b[43mget_donor_data\u001b[49m\u001b[43m(\u001b[49m\u001b[43mdf\u001b[49m\u001b[43m,\u001b[49m\u001b[43m \u001b[49m\u001b[38;5;28;43mid\u001b[39;49m\u001b[43m)\u001b[49m\n\u001b[1;32m      6\u001b[0m    \u001b[38;5;66;03m# plt.bar(samples, dd[gene])\u001b[39;00m\n\u001b[1;32m      7\u001b[0m    \u001b[38;5;66;03m# plt.title(id)\u001b[39;00m\n\u001b[1;32m      8\u001b[0m    \u001b[38;5;66;03m# plt.xticks(samples, ['1h', '2h', '4h', '6h', '12h', '24h'])\u001b[39;00m\n\u001b[1;32m      9\u001b[0m    \u001b[38;5;66;03m# plt.show()\u001b[39;00m\n",
      "Cell \u001b[0;32mIn[16], line 9\u001b[0m, in \u001b[0;36mget_donor_data\u001b[0;34m(all_data, donor_id)\u001b[0m\n\u001b[1;32m      7\u001b[0m tstr \u001b[38;5;241m=\u001b[39m tstr\u001b[38;5;241m.\u001b[39mstr[\u001b[38;5;241m3\u001b[39m]\u001b[38;5;241m.\u001b[39mstr\u001b[38;5;241m.\u001b[39mreplace(\u001b[38;5;124m'\u001b[39m\u001b[38;5;124mh\u001b[39m\u001b[38;5;124m'\u001b[39m, \u001b[38;5;124m'\u001b[39m\u001b[38;5;124m'\u001b[39m)\n\u001b[1;32m      8\u001b[0m \u001b[38;5;28mprint\u001b[39m(tstr)\n\u001b[0;32m----> 9\u001b[0m donor_data[\u001b[38;5;124m'\u001b[39m\u001b[38;5;124mtime\u001b[39m\u001b[38;5;124m'\u001b[39m] \u001b[38;5;241m=\u001b[39m \u001b[43mtstr\u001b[49m\u001b[38;5;241;43m.\u001b[39;49m\u001b[43mastype\u001b[49m\u001b[43m(\u001b[49m\u001b[38;5;28;43mint\u001b[39;49m\u001b[43m)\u001b[49m\n\u001b[1;32m     10\u001b[0m donor_data\u001b[38;5;241m.\u001b[39msort_values(by\u001b[38;5;241m=\u001b[39m\u001b[38;5;124m'\u001b[39m\u001b[38;5;124mtime\u001b[39m\u001b[38;5;124m'\u001b[39m, inplace\u001b[38;5;241m=\u001b[39m\u001b[38;5;28;01mTrue\u001b[39;00m)\n\u001b[1;32m     11\u001b[0m \u001b[38;5;28;01mreturn\u001b[39;00m donor_data\n",
      "File \u001b[0;32m/Library/Frameworks/Python.framework/Versions/3.12/lib/python3.12/site-packages/pandas/core/generic.py:6637\u001b[0m, in \u001b[0;36mNDFrame.astype\u001b[0;34m(self, dtype, copy, errors)\u001b[0m\n\u001b[1;32m   6631\u001b[0m     results \u001b[38;5;241m=\u001b[39m [\n\u001b[1;32m   6632\u001b[0m         ser\u001b[38;5;241m.\u001b[39mastype(dtype, copy\u001b[38;5;241m=\u001b[39mcopy, errors\u001b[38;5;241m=\u001b[39merrors) \u001b[38;5;28;01mfor\u001b[39;00m _, ser \u001b[38;5;129;01min\u001b[39;00m \u001b[38;5;28mself\u001b[39m\u001b[38;5;241m.\u001b[39mitems()\n\u001b[1;32m   6633\u001b[0m     ]\n\u001b[1;32m   6635\u001b[0m \u001b[38;5;28;01melse\u001b[39;00m:\n\u001b[1;32m   6636\u001b[0m     \u001b[38;5;66;03m# else, only a single dtype is given\u001b[39;00m\n\u001b[0;32m-> 6637\u001b[0m     new_data \u001b[38;5;241m=\u001b[39m \u001b[38;5;28;43mself\u001b[39;49m\u001b[38;5;241;43m.\u001b[39;49m\u001b[43m_mgr\u001b[49m\u001b[38;5;241;43m.\u001b[39;49m\u001b[43mastype\u001b[49m\u001b[43m(\u001b[49m\u001b[43mdtype\u001b[49m\u001b[38;5;241;43m=\u001b[39;49m\u001b[43mdtype\u001b[49m\u001b[43m,\u001b[49m\u001b[43m \u001b[49m\u001b[43mcopy\u001b[49m\u001b[38;5;241;43m=\u001b[39;49m\u001b[43mcopy\u001b[49m\u001b[43m,\u001b[49m\u001b[43m \u001b[49m\u001b[43merrors\u001b[49m\u001b[38;5;241;43m=\u001b[39;49m\u001b[43merrors\u001b[49m\u001b[43m)\u001b[49m\n\u001b[1;32m   6638\u001b[0m     res \u001b[38;5;241m=\u001b[39m \u001b[38;5;28mself\u001b[39m\u001b[38;5;241m.\u001b[39m_constructor_from_mgr(new_data, axes\u001b[38;5;241m=\u001b[39mnew_data\u001b[38;5;241m.\u001b[39maxes)\n\u001b[1;32m   6639\u001b[0m     \u001b[38;5;28;01mreturn\u001b[39;00m res\u001b[38;5;241m.\u001b[39m__finalize__(\u001b[38;5;28mself\u001b[39m, method\u001b[38;5;241m=\u001b[39m\u001b[38;5;124m\"\u001b[39m\u001b[38;5;124mastype\u001b[39m\u001b[38;5;124m\"\u001b[39m)\n",
      "File \u001b[0;32m/Library/Frameworks/Python.framework/Versions/3.12/lib/python3.12/site-packages/pandas/core/internals/managers.py:431\u001b[0m, in \u001b[0;36mBaseBlockManager.astype\u001b[0;34m(self, dtype, copy, errors)\u001b[0m\n\u001b[1;32m    428\u001b[0m \u001b[38;5;28;01melif\u001b[39;00m using_copy_on_write():\n\u001b[1;32m    429\u001b[0m     copy \u001b[38;5;241m=\u001b[39m \u001b[38;5;28;01mFalse\u001b[39;00m\n\u001b[0;32m--> 431\u001b[0m \u001b[38;5;28;01mreturn\u001b[39;00m \u001b[38;5;28;43mself\u001b[39;49m\u001b[38;5;241;43m.\u001b[39;49m\u001b[43mapply\u001b[49m\u001b[43m(\u001b[49m\n\u001b[1;32m    432\u001b[0m \u001b[43m    \u001b[49m\u001b[38;5;124;43m\"\u001b[39;49m\u001b[38;5;124;43mastype\u001b[39;49m\u001b[38;5;124;43m\"\u001b[39;49m\u001b[43m,\u001b[49m\n\u001b[1;32m    433\u001b[0m \u001b[43m    \u001b[49m\u001b[43mdtype\u001b[49m\u001b[38;5;241;43m=\u001b[39;49m\u001b[43mdtype\u001b[49m\u001b[43m,\u001b[49m\n\u001b[1;32m    434\u001b[0m \u001b[43m    \u001b[49m\u001b[43mcopy\u001b[49m\u001b[38;5;241;43m=\u001b[39;49m\u001b[43mcopy\u001b[49m\u001b[43m,\u001b[49m\n\u001b[1;32m    435\u001b[0m \u001b[43m    \u001b[49m\u001b[43merrors\u001b[49m\u001b[38;5;241;43m=\u001b[39;49m\u001b[43merrors\u001b[49m\u001b[43m,\u001b[49m\n\u001b[1;32m    436\u001b[0m \u001b[43m    \u001b[49m\u001b[43musing_cow\u001b[49m\u001b[38;5;241;43m=\u001b[39;49m\u001b[43musing_copy_on_write\u001b[49m\u001b[43m(\u001b[49m\u001b[43m)\u001b[49m\u001b[43m,\u001b[49m\n\u001b[1;32m    437\u001b[0m \u001b[43m\u001b[49m\u001b[43m)\u001b[49m\n",
      "File \u001b[0;32m/Library/Frameworks/Python.framework/Versions/3.12/lib/python3.12/site-packages/pandas/core/internals/managers.py:364\u001b[0m, in \u001b[0;36mBaseBlockManager.apply\u001b[0;34m(self, f, align_keys, **kwargs)\u001b[0m\n\u001b[1;32m    362\u001b[0m         applied \u001b[38;5;241m=\u001b[39m b\u001b[38;5;241m.\u001b[39mapply(f, \u001b[38;5;241m*\u001b[39m\u001b[38;5;241m*\u001b[39mkwargs)\n\u001b[1;32m    363\u001b[0m     \u001b[38;5;28;01melse\u001b[39;00m:\n\u001b[0;32m--> 364\u001b[0m         applied \u001b[38;5;241m=\u001b[39m \u001b[38;5;28;43mgetattr\u001b[39;49m\u001b[43m(\u001b[49m\u001b[43mb\u001b[49m\u001b[43m,\u001b[49m\u001b[43m \u001b[49m\u001b[43mf\u001b[49m\u001b[43m)\u001b[49m\u001b[43m(\u001b[49m\u001b[38;5;241;43m*\u001b[39;49m\u001b[38;5;241;43m*\u001b[39;49m\u001b[43mkwargs\u001b[49m\u001b[43m)\u001b[49m\n\u001b[1;32m    365\u001b[0m     result_blocks \u001b[38;5;241m=\u001b[39m extend_blocks(applied, result_blocks)\n\u001b[1;32m    367\u001b[0m out \u001b[38;5;241m=\u001b[39m \u001b[38;5;28mtype\u001b[39m(\u001b[38;5;28mself\u001b[39m)\u001b[38;5;241m.\u001b[39mfrom_blocks(result_blocks, \u001b[38;5;28mself\u001b[39m\u001b[38;5;241m.\u001b[39maxes)\n",
      "File \u001b[0;32m/Library/Frameworks/Python.framework/Versions/3.12/lib/python3.12/site-packages/pandas/core/internals/blocks.py:758\u001b[0m, in \u001b[0;36mBlock.astype\u001b[0;34m(self, dtype, copy, errors, using_cow, squeeze)\u001b[0m\n\u001b[1;32m    755\u001b[0m         \u001b[38;5;28;01mraise\u001b[39;00m \u001b[38;5;167;01mValueError\u001b[39;00m(\u001b[38;5;124m\"\u001b[39m\u001b[38;5;124mCan not squeeze with more than one column.\u001b[39m\u001b[38;5;124m\"\u001b[39m)\n\u001b[1;32m    756\u001b[0m     values \u001b[38;5;241m=\u001b[39m values[\u001b[38;5;241m0\u001b[39m, :]  \u001b[38;5;66;03m# type: ignore[call-overload]\u001b[39;00m\n\u001b[0;32m--> 758\u001b[0m new_values \u001b[38;5;241m=\u001b[39m \u001b[43mastype_array_safe\u001b[49m\u001b[43m(\u001b[49m\u001b[43mvalues\u001b[49m\u001b[43m,\u001b[49m\u001b[43m \u001b[49m\u001b[43mdtype\u001b[49m\u001b[43m,\u001b[49m\u001b[43m \u001b[49m\u001b[43mcopy\u001b[49m\u001b[38;5;241;43m=\u001b[39;49m\u001b[43mcopy\u001b[49m\u001b[43m,\u001b[49m\u001b[43m \u001b[49m\u001b[43merrors\u001b[49m\u001b[38;5;241;43m=\u001b[39;49m\u001b[43merrors\u001b[49m\u001b[43m)\u001b[49m\n\u001b[1;32m    760\u001b[0m new_values \u001b[38;5;241m=\u001b[39m maybe_coerce_values(new_values)\n\u001b[1;32m    762\u001b[0m refs \u001b[38;5;241m=\u001b[39m \u001b[38;5;28;01mNone\u001b[39;00m\n",
      "File \u001b[0;32m/Library/Frameworks/Python.framework/Versions/3.12/lib/python3.12/site-packages/pandas/core/dtypes/astype.py:237\u001b[0m, in \u001b[0;36mastype_array_safe\u001b[0;34m(values, dtype, copy, errors)\u001b[0m\n\u001b[1;32m    234\u001b[0m     dtype \u001b[38;5;241m=\u001b[39m dtype\u001b[38;5;241m.\u001b[39mnumpy_dtype\n\u001b[1;32m    236\u001b[0m \u001b[38;5;28;01mtry\u001b[39;00m:\n\u001b[0;32m--> 237\u001b[0m     new_values \u001b[38;5;241m=\u001b[39m \u001b[43mastype_array\u001b[49m\u001b[43m(\u001b[49m\u001b[43mvalues\u001b[49m\u001b[43m,\u001b[49m\u001b[43m \u001b[49m\u001b[43mdtype\u001b[49m\u001b[43m,\u001b[49m\u001b[43m \u001b[49m\u001b[43mcopy\u001b[49m\u001b[38;5;241;43m=\u001b[39;49m\u001b[43mcopy\u001b[49m\u001b[43m)\u001b[49m\n\u001b[1;32m    238\u001b[0m \u001b[38;5;28;01mexcept\u001b[39;00m (\u001b[38;5;167;01mValueError\u001b[39;00m, \u001b[38;5;167;01mTypeError\u001b[39;00m):\n\u001b[1;32m    239\u001b[0m     \u001b[38;5;66;03m# e.g. _astype_nansafe can fail on object-dtype of strings\u001b[39;00m\n\u001b[1;32m    240\u001b[0m     \u001b[38;5;66;03m#  trying to convert to float\u001b[39;00m\n\u001b[1;32m    241\u001b[0m     \u001b[38;5;28;01mif\u001b[39;00m errors \u001b[38;5;241m==\u001b[39m \u001b[38;5;124m\"\u001b[39m\u001b[38;5;124mignore\u001b[39m\u001b[38;5;124m\"\u001b[39m:\n",
      "File \u001b[0;32m/Library/Frameworks/Python.framework/Versions/3.12/lib/python3.12/site-packages/pandas/core/dtypes/astype.py:182\u001b[0m, in \u001b[0;36mastype_array\u001b[0;34m(values, dtype, copy)\u001b[0m\n\u001b[1;32m    179\u001b[0m     values \u001b[38;5;241m=\u001b[39m values\u001b[38;5;241m.\u001b[39mastype(dtype, copy\u001b[38;5;241m=\u001b[39mcopy)\n\u001b[1;32m    181\u001b[0m \u001b[38;5;28;01melse\u001b[39;00m:\n\u001b[0;32m--> 182\u001b[0m     values \u001b[38;5;241m=\u001b[39m \u001b[43m_astype_nansafe\u001b[49m\u001b[43m(\u001b[49m\u001b[43mvalues\u001b[49m\u001b[43m,\u001b[49m\u001b[43m \u001b[49m\u001b[43mdtype\u001b[49m\u001b[43m,\u001b[49m\u001b[43m \u001b[49m\u001b[43mcopy\u001b[49m\u001b[38;5;241;43m=\u001b[39;49m\u001b[43mcopy\u001b[49m\u001b[43m)\u001b[49m\n\u001b[1;32m    184\u001b[0m \u001b[38;5;66;03m# in pandas we don't store numpy str dtypes, so convert to object\u001b[39;00m\n\u001b[1;32m    185\u001b[0m \u001b[38;5;28;01mif\u001b[39;00m \u001b[38;5;28misinstance\u001b[39m(dtype, np\u001b[38;5;241m.\u001b[39mdtype) \u001b[38;5;129;01mand\u001b[39;00m \u001b[38;5;28missubclass\u001b[39m(values\u001b[38;5;241m.\u001b[39mdtype\u001b[38;5;241m.\u001b[39mtype, \u001b[38;5;28mstr\u001b[39m):\n",
      "File \u001b[0;32m/Library/Frameworks/Python.framework/Versions/3.12/lib/python3.12/site-packages/pandas/core/dtypes/astype.py:133\u001b[0m, in \u001b[0;36m_astype_nansafe\u001b[0;34m(arr, dtype, copy, skipna)\u001b[0m\n\u001b[1;32m    129\u001b[0m     \u001b[38;5;28;01mraise\u001b[39;00m \u001b[38;5;167;01mValueError\u001b[39;00m(msg)\n\u001b[1;32m    131\u001b[0m \u001b[38;5;28;01mif\u001b[39;00m copy \u001b[38;5;129;01mor\u001b[39;00m arr\u001b[38;5;241m.\u001b[39mdtype \u001b[38;5;241m==\u001b[39m \u001b[38;5;28mobject\u001b[39m \u001b[38;5;129;01mor\u001b[39;00m dtype \u001b[38;5;241m==\u001b[39m \u001b[38;5;28mobject\u001b[39m:\n\u001b[1;32m    132\u001b[0m     \u001b[38;5;66;03m# Explicit copy, or required since NumPy can't view from / to object.\u001b[39;00m\n\u001b[0;32m--> 133\u001b[0m     \u001b[38;5;28;01mreturn\u001b[39;00m \u001b[43marr\u001b[49m\u001b[38;5;241;43m.\u001b[39;49m\u001b[43mastype\u001b[49m\u001b[43m(\u001b[49m\u001b[43mdtype\u001b[49m\u001b[43m,\u001b[49m\u001b[43m \u001b[49m\u001b[43mcopy\u001b[49m\u001b[38;5;241;43m=\u001b[39;49m\u001b[38;5;28;43;01mTrue\u001b[39;49;00m\u001b[43m)\u001b[49m\n\u001b[1;32m    135\u001b[0m \u001b[38;5;28;01mreturn\u001b[39;00m arr\u001b[38;5;241m.\u001b[39mastype(dtype, copy\u001b[38;5;241m=\u001b[39mcopy)\n",
      "\u001b[0;31mValueError\u001b[0m: invalid literal for int() with base 10: '30m'"
     ]
    }
   ],
   "source": [
    "gene = 'TNF'\n",
    "for id in donors:\n",
    "   dd = get_donor_data(df, id)"
   ]
  },
  {
   "cell_type": "code",
   "execution_count": 116,
   "id": "a95a0a07-212f-450e-8801-dce5e038a3bb",
   "metadata": {},
   "outputs": [
    {
     "data": {
      "text/plain": [
       "([<matplotlib.axis.XTick at 0x12f57e900>,\n",
       "  <matplotlib.axis.XTick at 0x12f57d250>,\n",
       "  <matplotlib.axis.XTick at 0x12f57c740>,\n",
       "  <matplotlib.axis.XTick at 0x12d66f650>,\n",
       "  <matplotlib.axis.XTick at 0x12f591040>,\n",
       "  <matplotlib.axis.XTick at 0x12f5919d0>],\n",
       " [Text(1, 0, '1h'),\n",
       "  Text(2, 0, '2h'),\n",
       "  Text(3, 0, '4h'),\n",
       "  Text(4, 0, '6h'),\n",
       "  Text(5, 0, '12h'),\n",
       "  Text(6, 0, '24h')])"
      ]
     },
     "execution_count": 116,
     "metadata": {},
     "output_type": "execute_result"
    },
    {
     "data": {
      "image/png": "[encoded data removed]",
      "text/plain": [
       "<Figure size 640x480 with 1 Axes>"
      ]
     },
     "metadata": {},
     "output_type": "display_data"
    }
   ],
   "source": [
    "dd = get_donor_data(df, 'D09')\n",
    "plt.bar(samples, dd['NF1'])\n",
    "plt.xticks(range(1,7), ['1h', '2h', '4h', '6h', '12h', '24h'])"
   ]
  },
  {
   "cell_type": "code",
   "execution_count": 130,
   "id": "3e30050c-8c8a-406a-bd29-f1274d11ef96",
   "metadata": {},
   "outputs": [
    {
     "data": {
      "image/png": "[encoded data removed]",
      "text/plain": [
       "<Figure size 640x480 with 1 Axes>"
      ]
     },
     "metadata": {},
     "output_type": "display_data"
    }
   ],
   "source": [
    "df_d01 = get_donor_data(df, 'D01')\n",
    "plt.plot(df_d01['time'], df_d01['NF1'])\n",
    "\n",
    "df_d09 = get_donor_data(df, 'D09')\n",
    "plt.plot(df_d09['time'], df_d09['NF1'])\n",
    "\n",
    "df_d10 = get_donor_data(df, 'D10')\n",
    "plt.plot(df_d10['time'], df_d10['NF1'])\n",
    "\n",
    "df_d14 = get_donor_data(df, 'D14')\n",
    "plt.plot(df_d14['time'], df_d14['NF1'])\n",
    "\n",
    "plt.savefig(\"plt.pdf\")"
   ]
  },
  {
   "cell_type": "code",
   "execution_count": 125,
   "id": "be7a2dc6-7811-457a-8253-7030273a6427",
   "metadata": {},
   "outputs": [
    {
     "name": "stdout",
     "output_type": "stream",
     "text": [
      "['D01', 'D09', 'D10', 'D12', 'D13', 'D14', 'E01', 'E02', 'E81', 'E86', 'E91', 'E94', 'F30', 'F32', 'F33', 'G40', 'G41']\n"
     ]
    }
   ],
   "source": [
    "import re\n",
    "patients = []\n",
    "for col in df.columns:    \n",
    "    res = re.findall('.[A-Z][0-9]+_', col)\n",
    "    if len(res) == 1:\n",
    "        #print(res)\n",
    "        id = res[0][1:-1]\n",
    "        if id not in patients:\n",
    "            patients += [id]\n",
    "print(patients)\n"
   ]
  },
  {
   "cell_type": "code",
   "execution_count": 89,
   "id": "8c530e6f-5cd5-4763-b243-22b401c04c82",
   "metadata": {},
   "outputs": [
    {
     "data": {
      "image/png": "[encoded data removed]",
      "text/plain": [
       "<Figure size 640x480 with 1 Axes>"
      ]
     },
     "metadata": {},
     "output_type": "display_data"
    }
   ],
   "source": [
    "samples = range(1,7)\n",
    "plt.bar(samples, dft['TNF'])\n",
    "plt.xticks(samples, ['1h', '2h', '4h', '6h', '12h', '24h'])\n",
    "plt.savefig(\"plt.pdf\")"
   ]
  },
  {
   "cell_type": "code",
   "execution_count": 4,
   "id": "b65c8364-371c-4244-aef0-39cb3e55ef1d",
   "metadata": {},
   "outputs": [
    {
     "data": {
      "text/plain": [
       "pandas.core.indexes.base.Index"
      ]
     },
     "execution_count": 4,
     "metadata": {},
     "output_type": "execute_result"
    }
   ],
   "source": [
    "type(df.columns)"
   ]
  },
  {
   "cell_type": "code",
   "execution_count": 5,
   "id": "51c37903-dea3-4a40-8716-8846a8a3f2b0",
   "metadata": {},
   "outputs": [
    {
     "data": {
      "text/plain": [
       "pandas.core.series.Series"
      ]
     },
     "execution_count": 5,
     "metadata": {},
     "output_type": "execute_result"
    }
   ],
   "source": [
    "type(df['rsem.out.D01_MDDC_Ctrl_0h'])"
   ]
  },
  {
   "cell_type": "code",
   "execution_count": 22,
   "id": "542b1484-fab8-44dd-b24f-72e9375df650",
   "metadata": {},
   "outputs": [
    {
     "data": {
      "text/html": [
       "<div>\n",
       "<style scoped>\n",
       "    .dataframe tbody tr th:only-of-type {\n",
       "        vertical-align: middle;\n",
       "    }\n",
       "\n",
       "    .dataframe tbody tr th {\n",
       "        vertical-align: top;\n",
       "    }\n",
       "\n",
       "    .dataframe thead th {\n",
       "        text-align: right;\n",
       "    }\n",
       "</style>\n",
       "<table border=\"1\" class=\"dataframe\">\n",
       "  <thead>\n",
       "    <tr style=\"text-align: right;\">\n",
       "      <th></th>\n",
       "      <th>RPS11</th>\n",
       "      <th>ELMO2</th>\n",
       "    </tr>\n",
       "  </thead>\n",
       "  <tbody>\n",
       "    <tr>\n",
       "      <th>rsem.out.D01_MDDC_Ctrl_0h</th>\n",
       "      <td>2966.003181</td>\n",
       "      <td>24.944727</td>\n",
       "    </tr>\n",
       "    <tr>\n",
       "      <th>rsem.out.D01_MDDC_Ctrl_120h</th>\n",
       "      <td>2527.217203</td>\n",
       "      <td>26.241479</td>\n",
       "    </tr>\n",
       "    <tr>\n",
       "      <th>rsem.out.D01_MDDC_Lps_12h</th>\n",
       "      <td>2232.529003</td>\n",
       "      <td>45.047532</td>\n",
       "    </tr>\n",
       "    <tr>\n",
       "      <th>rsem.out.D01_MDDC_Lps_1h</th>\n",
       "      <td>2781.490688</td>\n",
       "      <td>20.347192</td>\n",
       "    </tr>\n",
       "    <tr>\n",
       "      <th>rsem.out.D01_MDDC_Lps_24h</th>\n",
       "      <td>1629.466099</td>\n",
       "      <td>33.263392</td>\n",
       "    </tr>\n",
       "    <tr>\n",
       "      <th>rsem.out.D01_MDDC_Lps_2h</th>\n",
       "      <td>2818.612413</td>\n",
       "      <td>18.344631</td>\n",
       "    </tr>\n",
       "    <tr>\n",
       "      <th>rsem.out.D01_MDDC_Lps_4h</th>\n",
       "      <td>2380.521452</td>\n",
       "      <td>31.999284</td>\n",
       "    </tr>\n",
       "    <tr>\n",
       "      <th>rsem.out.D01_MDDC_Lps_6h</th>\n",
       "      <td>2465.919133</td>\n",
       "      <td>44.436236</td>\n",
       "    </tr>\n",
       "  </tbody>\n",
       "</table>\n",
       "</div>"
      ],
      "text/plain": [
       "                                   RPS11      ELMO2\n",
       "rsem.out.D01_MDDC_Ctrl_0h    2966.003181  24.944727\n",
       "rsem.out.D01_MDDC_Ctrl_120h  2527.217203  26.241479\n",
       "rsem.out.D01_MDDC_Lps_12h    2232.529003  45.047532\n",
       "rsem.out.D01_MDDC_Lps_1h     2781.490688  20.347192\n",
       "rsem.out.D01_MDDC_Lps_24h    1629.466099  33.263392\n",
       "rsem.out.D01_MDDC_Lps_2h     2818.612413  18.344631\n",
       "rsem.out.D01_MDDC_Lps_4h     2380.521452  31.999284\n",
       "rsem.out.D01_MDDC_Lps_6h     2465.919133  44.436236"
      ]
     },
     "execution_count": 22,
     "metadata": {},
     "output_type": "execute_result"
    }
   ],
   "source": [
    "df.filter(regex='D01')['RPS11':'ELMO2'].transpose()"
   ]
  },
  {
   "cell_type": "code",
   "execution_count": null,
   "id": "305fcb6d-f152-44cb-9437-c6b934d2b4b3",
   "metadata": {},
   "outputs": [],
   "source": []
  },
  {
   "cell_type": "code",
   "execution_count": 7,
   "id": "c2ba0582-8223-4dec-9ded-551588e32294",
   "metadata": {},
   "outputs": [
    {
     "data": {
      "text/plain": [
       "3820.36591670598"
      ]
     },
     "execution_count": 7,
     "metadata": {},
     "output_type": "execute_result"
    }
   ],
   "source": [
    "df['rsem.out.D01_MDDC_Ctrl_0h']['CTSC']"
   ]
  },
  {
   "cell_type": "code",
   "execution_count": 8,
   "id": "78dbff95-8ac6-4574-a1fa-8e1b8159a3a1",
   "metadata": {},
   "outputs": [],
   "source": [
    "def get_donor_data(all_data, donor_id):    \n",
    "    df_donor = all_data.filter(regex=donor_id)\n",
    "    dft = df_donor.transpose()\n",
    "    dft['time'] = dft.index\n",
    "    dft['time'] = dft['time'].str.split('_').str[3].str.replace('h', '').astype(int)\n",
    "    dft.sort_values(by='time', inplace=True)\n",
    "    return dft"
   ]
  },
  {
   "cell_type": "code",
   "execution_count": 9,
   "id": "f7e54239-703b-41d6-9819-2c3f299eed55",
   "metadata": {},
   "outputs": [
    {
     "data": {
      "text/plain": [
       "rsem.out.D01_MDDC_Ctrl_0h      2966.003181\n",
       "rsem.out.D01_MDDC_Lps_1h       2781.490688\n",
       "rsem.out.D01_MDDC_Lps_2h       2818.612413\n",
       "rsem.out.D01_MDDC_Lps_4h       2380.521452\n",
       "rsem.out.D01_MDDC_Lps_6h       2465.919133\n",
       "rsem.out.D01_MDDC_Lps_12h      2232.529003\n",
       "rsem.out.D01_MDDC_Lps_24h      1629.466099\n",
       "rsem.out.D01_MDDC_Ctrl_120h    2527.217203\n",
       "Name: RPS11, dtype: float64"
      ]
     },
     "execution_count": 9,
     "metadata": {},
     "output_type": "execute_result"
    }
   ],
   "source": [
    "df_donor = df.filter(regex='D01')\n",
    "dft = df_donor.transpose()\n",
    "dft['time'] = dft.index\n",
    "dft['time'] = dft['time'].str.split('_').str[3].str.replace('h', '').astype(int)\n",
    "dft.sort_values(by='time', inplace=True)\n",
    "dft['RPS11']"
   ]
  },
  {
   "cell_type": "code",
   "execution_count": 33,
   "id": "b9354da5-59ef-4dfb-b694-67bf4f34a6b2",
   "metadata": {},
   "outputs": [
    {
     "name": "stdout",
     "output_type": "stream",
     "text": [
      " time       RPS11     ELMO2\n",
      "    1 2781.490688 20.347192\n",
      "    2 2818.612413 18.344631\n",
      "    4 2380.521452 31.999284\n",
      "    6 2465.919133 44.436236\n",
      "   12 2232.529003 45.047532\n",
      "   24 1629.466099 33.263392\n"
     ]
    }
   ],
   "source": [
    "df_d01 = get_donor_data(df, 'D01_MDDC_Lps')\n",
    "print(df_d01[['time', 'RPS11', 'ELMO2']].to_string(index=False))"
   ]
  },
  {
   "cell_type": "code",
   "execution_count": 11,
   "id": "fefb4029-f8fa-441c-93d1-4ae872f1449d",
   "metadata": {},
   "outputs": [
    {
     "ename": "TypeError",
     "evalue": "get_donor_data() takes 2 positional arguments but 3 were given",
     "output_type": "error",
     "traceback": [
      "\u001b[0;31m---------------------------------------------------------------------------\u001b[0m",
      "\u001b[0;31mTypeError\u001b[0m                                 Traceback (most recent call last)",
      "Cell \u001b[0;32mIn[11], line 1\u001b[0m\n\u001b[0;32m----> 1\u001b[0m df_d09 \u001b[38;5;241m=\u001b[39m \u001b[43mget_donor_data\u001b[49m\u001b[43m(\u001b[49m\u001b[43mdf\u001b[49m\u001b[43m,\u001b[49m\u001b[43m \u001b[49m\u001b[38;5;124;43m'\u001b[39;49m\u001b[38;5;124;43mPNMA1\u001b[39;49m\u001b[38;5;124;43m'\u001b[39;49m\u001b[43m,\u001b[49m\u001b[43m \u001b[49m\u001b[38;5;124;43m'\u001b[39;49m\u001b[38;5;124;43mD09\u001b[39;49m\u001b[38;5;124;43m'\u001b[39;49m\u001b[43m)\u001b[49m\n",
      "\u001b[0;31mTypeError\u001b[0m: get_donor_data() takes 2 positional arguments but 3 were given"
     ]
    }
   ],
   "source": [
    "df_d09 = get_donor_data(df, 'PNMA1', 'D09')"
   ]
  },
  {
   "cell_type": "code",
   "execution_count": 49,
   "id": "2d061d52-85bf-4235-a656-478bd4f1da3c",
   "metadata": {},
   "outputs": [
    {
     "data": {
      "image/png": "[encoded data removed]",
      "text/plain": [
       "<Figure size 640x480 with 1 Axes>"
      ]
     },
     "metadata": {},
     "output_type": "display_data"
    }
   ],
   "source": [
    "plt.bar(range(1,7), df_d01['ELMO2'])\n",
    "plt.xticks(range(1,7), ['1h', '2h', '4h', '6h', '12h', '24h'])\n",
    "plt.savefig(\"plt.pdf\")"
   ]
  },
  {
   "cell_type": "code",
   "execution_count": 42,
   "id": "25a301ab-d08d-4c6e-8cba-5642d0e96b7a",
   "metadata": {},
   "outputs": [
    {
     "data": {
      "image/png": "[encoded data removed]",
      "text/plain": [
       "<Figure size 640x480 with 1 Axes>"
      ]
     },
     "metadata": {},
     "output_type": "display_data"
    }
   ],
   "source": [
    "plt.bar(range(1,7), df_d01['ELMO2'])\n",
    "#plt.plot(df_d01['time'], df_d01['ELMO2'])\n",
    "plt.savefig(\"plt.pdf\")"
   ]
  },
  {
   "cell_type": "code",
   "execution_count": null,
   "id": "77c78e2d-2d52-4c8b-83c7-60374c102920",
   "metadata": {},
   "outputs": [],
   "source": [
    "plt.plot(df_d09['time'], df_d09['PNMA1'])"
   ]
  },
  {
   "cell_type": "code",
   "execution_count": null,
   "id": "528484db-2ae9-416f-a190-4c05d24bccab",
   "metadata": {},
   "outputs": [],
   "source": []
  }
 ],
 "metadata": {
  "kernelspec": {
   "display_name": "Python 3 (ipykernel)",
   "language": "python",
   "name": "python3"
  },
  "language_info": {
   "codemirror_mode": {
    "name": "ipython",
    "version": 3
   },
   "file_extension": ".py",
   "mimetype": "text/x-python",
   "name": "python",
   "nbconvert_exporter": "python",
   "pygments_lexer": "ipython3",
   "version": "3.12.1"
  }
 },
 "nbformat": 4,
 "nbformat_minor": 5
}
